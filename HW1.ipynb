{
  "nbformat": 4,
  "nbformat_minor": 0,
  "metadata": {
    "colab": {
      "name": "HW1.ipynb",
      "provenance": [],
      "include_colab_link": true
    },
    "kernelspec": {
      "name": "python3",
      "display_name": "Python 3"
    }
  },
  "cells": [
    {
      "cell_type": "markdown",
      "metadata": {
        "id": "view-in-github",
        "colab_type": "text"
      },
      "source": [
        "<a href=\"https://colab.research.google.com/github/mw1849/nyu-python-public-policy/blob/master/HW1.ipynb\" target=\"_parent\"><img src=\"https://colab.research.google.com/assets/colab-badge.svg\" alt=\"Open In Colab\"/></a>"
      ]
    },
    {
      "cell_type": "code",
      "metadata": {
        "id": "NUfUwD2Xknfe",
        "colab_type": "code",
        "outputId": "7481998e-4754-4141-dd58-4d432eb1e089",
        "colab": {
          "base_uri": "https://localhost:8080/",
          "height": 35
        }
      },
      "source": [
        "import pandas as pd\n",
        "import numpy as np\n",
        "from google.colab import drive\n",
        "drive.mount('/content/drive')"
      ],
      "execution_count": 9,
      "outputs": [
        {
          "output_type": "stream",
          "text": [
            "Drive already mounted at /content/drive; to attempt to forcibly remount, call drive.mount(\"/content/drive\", force_remount=True).\n"
          ],
          "name": "stdout"
        }
      ]
    },
    {
      "cell_type": "code",
      "metadata": {
        "id": "o9-2br9Fl1-l",
        "colab_type": "code",
        "outputId": "df6c922b-c574-4ace-b9b0-fff950428078",
        "colab": {
          "base_uri": "https://localhost:8080/",
          "height": 72
        }
      },
      "source": [
        "df = pd.read_csv('/content/drive/My Drive/Data for Python/311_Service_Requests_2018-19.csv', header='infer')"
      ],
      "execution_count": 10,
      "outputs": [
        {
          "output_type": "stream",
          "text": [
            "/usr/local/lib/python3.6/dist-packages/IPython/core/interactiveshell.py:2718: DtypeWarning: Columns (8,17,20,31,34) have mixed types. Specify dtype option on import or set low_memory=False.\n",
            "  interactivity=interactivity, compiler=compiler, result=result)\n"
          ],
          "name": "stderr"
        }
      ]
    },
    {
      "cell_type": "code",
      "metadata": {
        "id": "BHVPaRYITM0e",
        "colab_type": "code",
        "outputId": "f42f4ade-0dda-449e-acfe-87eeee017f57",
        "colab": {
          "base_uri": "https://localhost:8080/",
          "height": 52
        }
      },
      "source": [
        "df[['Created Date']].min()"
      ],
      "execution_count": 0,
      "outputs": [
        {
          "output_type": "execute_result",
          "data": {
            "text/plain": [
              "Created Date    01/01/2019 01:00:00 PM\n",
              "dtype: object"
            ]
          },
          "metadata": {
            "tags": []
          },
          "execution_count": 6
        }
      ]
    },
    {
      "cell_type": "code",
      "metadata": {
        "id": "exlg2B9DU10B",
        "colab_type": "code",
        "outputId": "aa1d8936-0154-4522-dfce-46fe03b34d8a",
        "colab": {
          "base_uri": "https://localhost:8080/",
          "height": 52
        }
      },
      "source": [
        "df[['Created Date']].max()"
      ],
      "execution_count": 11,
      "outputs": [
        {
          "output_type": "execute_result",
          "data": {
            "text/plain": [
              "Created Date    12/31/2018 12:59:41 PM\n",
              "dtype: object"
            ]
          },
          "metadata": {
            "tags": []
          },
          "execution_count": 11
        }
      ]
    },
    {
      "cell_type": "code",
      "metadata": {
        "id": "KfAH7PLSmN-z",
        "colab_type": "code",
        "outputId": "f8365558-85b5-4605-bcb9-4107a48c006d",
        "colab": {
          "base_uri": "https://localhost:8080/",
          "height": 238
        }
      },
      "source": [
        "df.head(1)"
      ],
      "execution_count": 12,
      "outputs": [
        {
          "output_type": "execute_result",
          "data": {
            "text/html": [
              "<div>\n",
              "<style scoped>\n",
              "    .dataframe tbody tr th:only-of-type {\n",
              "        vertical-align: middle;\n",
              "    }\n",
              "\n",
              "    .dataframe tbody tr th {\n",
              "        vertical-align: top;\n",
              "    }\n",
              "\n",
              "    .dataframe thead th {\n",
              "        text-align: right;\n",
              "    }\n",
              "</style>\n",
              "<table border=\"1\" class=\"dataframe\">\n",
              "  <thead>\n",
              "    <tr style=\"text-align: right;\">\n",
              "      <th></th>\n",
              "      <th>Unique Key</th>\n",
              "      <th>Created Date</th>\n",
              "      <th>Closed Date</th>\n",
              "      <th>Agency</th>\n",
              "      <th>Agency Name</th>\n",
              "      <th>Complaint Type</th>\n",
              "      <th>Descriptor</th>\n",
              "      <th>Location Type</th>\n",
              "      <th>Incident Zip</th>\n",
              "      <th>Incident Address</th>\n",
              "      <th>Street Name</th>\n",
              "      <th>Cross Street 1</th>\n",
              "      <th>Cross Street 2</th>\n",
              "      <th>Intersection Street 1</th>\n",
              "      <th>Intersection Street 2</th>\n",
              "      <th>Address Type</th>\n",
              "      <th>City</th>\n",
              "      <th>Landmark</th>\n",
              "      <th>Facility Type</th>\n",
              "      <th>Status</th>\n",
              "      <th>Due Date</th>\n",
              "      <th>Resolution Description</th>\n",
              "      <th>Resolution Action Updated Date</th>\n",
              "      <th>Community Board</th>\n",
              "      <th>BBL</th>\n",
              "      <th>Borough</th>\n",
              "      <th>X Coordinate (State Plane)</th>\n",
              "      <th>Y Coordinate (State Plane)</th>\n",
              "      <th>Open Data Channel Type</th>\n",
              "      <th>Park Facility Name</th>\n",
              "      <th>Park Borough</th>\n",
              "      <th>Vehicle Type</th>\n",
              "      <th>Taxi Company Borough</th>\n",
              "      <th>Taxi Pick Up Location</th>\n",
              "      <th>Bridge Highway Name</th>\n",
              "      <th>Bridge Highway Direction</th>\n",
              "      <th>Road Ramp</th>\n",
              "      <th>Bridge Highway Segment</th>\n",
              "      <th>Latitude</th>\n",
              "      <th>Longitude</th>\n",
              "      <th>Location</th>\n",
              "    </tr>\n",
              "  </thead>\n",
              "  <tbody>\n",
              "    <tr>\n",
              "      <th>0</th>\n",
              "      <td>39888071</td>\n",
              "      <td>08/01/2018 12:00:10 AM</td>\n",
              "      <td>08/01/2018 01:52:46 AM</td>\n",
              "      <td>DHS</td>\n",
              "      <td>Operations Unit - Department of Homeless Services</td>\n",
              "      <td>Homeless Person Assistance</td>\n",
              "      <td>NaN</td>\n",
              "      <td>Other</td>\n",
              "      <td>10029</td>\n",
              "      <td>200 EAST  109 STREET</td>\n",
              "      <td>EAST  109 STREET</td>\n",
              "      <td>3 AVENUE</td>\n",
              "      <td>2 AVENUE</td>\n",
              "      <td>NaN</td>\n",
              "      <td>NaN</td>\n",
              "      <td>ADDRESS</td>\n",
              "      <td>NEW YORK</td>\n",
              "      <td>NaN</td>\n",
              "      <td>NaN</td>\n",
              "      <td>Closed</td>\n",
              "      <td>08/01/2018 01:00:10 AM</td>\n",
              "      <td>The mobile outreach response team offered serv...</td>\n",
              "      <td>08/01/2018 01:52:46 AM</td>\n",
              "      <td>11 MANHATTAN</td>\n",
              "      <td>1.016560e+09</td>\n",
              "      <td>MANHATTAN</td>\n",
              "      <td>1000049.0</td>\n",
              "      <td>228317.0</td>\n",
              "      <td>MOBILE</td>\n",
              "      <td>Unspecified</td>\n",
              "      <td>MANHATTAN</td>\n",
              "      <td>NaN</td>\n",
              "      <td>NaN</td>\n",
              "      <td>NaN</td>\n",
              "      <td>NaN</td>\n",
              "      <td>NaN</td>\n",
              "      <td>NaN</td>\n",
              "      <td>NaN</td>\n",
              "      <td>40.793339</td>\n",
              "      <td>-73.942942</td>\n",
              "      <td>(40.79333937834769, -73.9429417746998)</td>\n",
              "    </tr>\n",
              "  </tbody>\n",
              "</table>\n",
              "</div>"
            ],
            "text/plain": [
              "   Unique Key  ...                                Location\n",
              "0    39888071  ...  (40.79333937834769, -73.9429417746998)\n",
              "\n",
              "[1 rows x 41 columns]"
            ]
          },
          "metadata": {
            "tags": []
          },
          "execution_count": 12
        }
      ]
    },
    {
      "cell_type": "code",
      "metadata": {
        "id": "e98VSAJloJa4",
        "colab_type": "code",
        "outputId": "c2bfde20-4c21-4626-b2a0-1d50e77eff2d",
        "colab": {
          "base_uri": "https://localhost:8080/",
          "height": 186
        }
      },
      "source": [
        "df.tail(1)"
      ],
      "execution_count": 13,
      "outputs": [
        {
          "output_type": "execute_result",
          "data": {
            "text/html": [
              "<div>\n",
              "<style scoped>\n",
              "    .dataframe tbody tr th:only-of-type {\n",
              "        vertical-align: middle;\n",
              "    }\n",
              "\n",
              "    .dataframe tbody tr th {\n",
              "        vertical-align: top;\n",
              "    }\n",
              "\n",
              "    .dataframe thead th {\n",
              "        text-align: right;\n",
              "    }\n",
              "</style>\n",
              "<table border=\"1\" class=\"dataframe\">\n",
              "  <thead>\n",
              "    <tr style=\"text-align: right;\">\n",
              "      <th></th>\n",
              "      <th>Unique Key</th>\n",
              "      <th>Created Date</th>\n",
              "      <th>Closed Date</th>\n",
              "      <th>Agency</th>\n",
              "      <th>Agency Name</th>\n",
              "      <th>Complaint Type</th>\n",
              "      <th>Descriptor</th>\n",
              "      <th>Location Type</th>\n",
              "      <th>Incident Zip</th>\n",
              "      <th>Incident Address</th>\n",
              "      <th>Street Name</th>\n",
              "      <th>Cross Street 1</th>\n",
              "      <th>Cross Street 2</th>\n",
              "      <th>Intersection Street 1</th>\n",
              "      <th>Intersection Street 2</th>\n",
              "      <th>Address Type</th>\n",
              "      <th>City</th>\n",
              "      <th>Landmark</th>\n",
              "      <th>Facility Type</th>\n",
              "      <th>Status</th>\n",
              "      <th>Due Date</th>\n",
              "      <th>Resolution Description</th>\n",
              "      <th>Resolution Action Updated Date</th>\n",
              "      <th>Community Board</th>\n",
              "      <th>BBL</th>\n",
              "      <th>Borough</th>\n",
              "      <th>X Coordinate (State Plane)</th>\n",
              "      <th>Y Coordinate (State Plane)</th>\n",
              "      <th>Open Data Channel Type</th>\n",
              "      <th>Park Facility Name</th>\n",
              "      <th>Park Borough</th>\n",
              "      <th>Vehicle Type</th>\n",
              "      <th>Taxi Company Borough</th>\n",
              "      <th>Taxi Pick Up Location</th>\n",
              "      <th>Bridge Highway Name</th>\n",
              "      <th>Bridge Highway Direction</th>\n",
              "      <th>Road Ramp</th>\n",
              "      <th>Bridge Highway Segment</th>\n",
              "      <th>Latitude</th>\n",
              "      <th>Longitude</th>\n",
              "      <th>Location</th>\n",
              "    </tr>\n",
              "  </thead>\n",
              "  <tbody>\n",
              "    <tr>\n",
              "      <th>2859199</th>\n",
              "      <td>43623704</td>\n",
              "      <td>08/24/2019 02:00:56 AM</td>\n",
              "      <td>NaN</td>\n",
              "      <td>NYPD</td>\n",
              "      <td>New York City Police Department</td>\n",
              "      <td>Noise - Vehicle</td>\n",
              "      <td>Car/Truck Music</td>\n",
              "      <td>Street/Sidewalk</td>\n",
              "      <td>10303</td>\n",
              "      <td>2806 RICHMOND TERRACE</td>\n",
              "      <td>RICHMOND TERRACE</td>\n",
              "      <td>GIORDAN COURT</td>\n",
              "      <td>VAN PELT AVENUE</td>\n",
              "      <td>GIORDAN COURT</td>\n",
              "      <td>VAN PELT AVENUE</td>\n",
              "      <td>NaN</td>\n",
              "      <td>STATEN ISLAND</td>\n",
              "      <td>RICHMOND TERRACE</td>\n",
              "      <td>NaN</td>\n",
              "      <td>In Progress</td>\n",
              "      <td>NaN</td>\n",
              "      <td>NaN</td>\n",
              "      <td>NaN</td>\n",
              "      <td>01 STATEN ISLAND</td>\n",
              "      <td>5.011880e+09</td>\n",
              "      <td>STATEN ISLAND</td>\n",
              "      <td>941514.0</td>\n",
              "      <td>171315.0</td>\n",
              "      <td>ONLINE</td>\n",
              "      <td>Unspecified</td>\n",
              "      <td>STATEN ISLAND</td>\n",
              "      <td>NaN</td>\n",
              "      <td>NaN</td>\n",
              "      <td>NaN</td>\n",
              "      <td>NaN</td>\n",
              "      <td>NaN</td>\n",
              "      <td>NaN</td>\n",
              "      <td>NaN</td>\n",
              "      <td>40.636794</td>\n",
              "      <td>-74.153979</td>\n",
              "      <td>(40.63679359185655, -74.15397942810047)</td>\n",
              "    </tr>\n",
              "  </tbody>\n",
              "</table>\n",
              "</div>"
            ],
            "text/plain": [
              "         Unique Key  ...                                 Location\n",
              "2859199    43623704  ...  (40.63679359185655, -74.15397942810047)\n",
              "\n",
              "[1 rows x 41 columns]"
            ]
          },
          "metadata": {
            "tags": []
          },
          "execution_count": 13
        }
      ]
    },
    {
      "cell_type": "markdown",
      "metadata": {
        "id": "lj-xTfq3TGoD",
        "colab_type": "text"
      },
      "source": [
        "When I use the max() and min() functions to try to find the maximum and minimum values, respectively, for the \"Created Date\" column, I get '12/31/2018 12:59:41 PM' for the maximum value and '01/01/2019 01:00:00 PM' for the miniumum value. This surprises me because the maximum value is actually earlier than the minimum value (maximum value is in 2018 while the minimum value is in 2019). Perhaps the reason for this is because it is only looking at the month of the value, rather than the actual date. As such, because 12 is a larger number than 1, Python registers '12/31/2018 12:59:41 PM' as the later date even though '01/01/2019 01:00:00 PM' is later. It is possible that Python requires us to format the value of \"Created Date\" into dates first before it will return the correct values for the oldest and most recent dates. \n",
        "\n",
        "If I use the .head() and .tail() functions, I get the correct dates, which are '08/01/2018 12:00:10 AM' for the minimum value and '08/24/2019 02:00:56 AM' for the maximum value. Assuming that these are the correct dates, the max() and min() values are not even taking the maximum and minimum values from the dataset but the maximum and minimum of the year of the true maximum \n",
        "and minimum values. For example, the true minimum value is '08/01/2018 12:00:10 AM' and the maximum date for 2018 would be '12/31/2018 12:59:41 PM'. Similarly, the true maximum value is '08/24/2019 02:00:56 AM' and the minimum date for 2019 would be '01/01/2019 01:00:00 PM'."
      ]
    },
    {
      "cell_type": "markdown",
      "metadata": {
        "id": "W7SFbMhwjW4e",
        "colab_type": "text"
      },
      "source": [
        "Questions after the tutorials:\n",
        "\n",
        "Regarding the Data Aggregation using Pandas tutorial, why do you need two brackets to contain the column name in order to find the count of values within it?\n",
        "\n",
        "Is it accurate to say that when using pandas, we can use the \".\" to delineate the columns and apply methods to find specific information about the columns across all situations (e.g., zoo.water_need.sum())?\n",
        "\n"
      ]
    }
  ]
}