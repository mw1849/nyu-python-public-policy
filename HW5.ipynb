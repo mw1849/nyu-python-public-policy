{
  "nbformat": 4,
  "nbformat_minor": 0,
  "metadata": {
    "colab": {
      "name": "HW5.ipynb",
      "provenance": [],
      "include_colab_link": true
    },
    "kernelspec": {
      "name": "python3",
      "display_name": "Python 3"
    }
  },
  "cells": [
    {
      "cell_type": "markdown",
      "metadata": {
        "id": "view-in-github",
        "colab_type": "text"
      },
      "source": [
        "<a href=\"https://colab.research.google.com/github/mw1849/nyu-python-public-policy/blob/master/HW5.ipynb\" target=\"_parent\"><img src=\"https://colab.research.google.com/assets/colab-badge.svg\" alt=\"Open In Colab\"/></a>"
      ]
    },
    {
      "cell_type": "code",
      "metadata": {
        "id": "Ye-OHWVde2Na",
        "colab_type": "code",
        "colab": {}
      },
      "source": [
        "import pandas as pd\n",
        "from google.colab import drive\n",
        "import matplotlib.pyplot as plt \n",
        "import numpy as np\n",
        "import statsmodels.api as sm "
      ],
      "execution_count": 0,
      "outputs": []
    },
    {
      "cell_type": "code",
      "metadata": {
        "id": "1onqbRoXfBWT",
        "colab_type": "code",
        "outputId": "ecf38dbc-5fdd-4a42-b239-d6ebc94e29e1",
        "colab": {
          "base_uri": "https://localhost:8080/",
          "height": 124
        }
      },
      "source": [
        "drive.mount('/content/drive')\n"
      ],
      "execution_count": 2,
      "outputs": [
        {
          "output_type": "stream",
          "text": [
            "Go to this URL in a browser: https://accounts.google.com/o/oauth2/auth?client_id=947318989803-6bn6qk8qdgf4n4g3pfee6491hc0brc4i.apps.googleusercontent.com&redirect_uri=urn%3aietf%3awg%3aoauth%3a2.0%3aoob&response_type=code&scope=email%20https%3a%2f%2fwww.googleapis.com%2fauth%2fdocs.test%20https%3a%2f%2fwww.googleapis.com%2fauth%2fdrive%20https%3a%2f%2fwww.googleapis.com%2fauth%2fdrive.photos.readonly%20https%3a%2f%2fwww.googleapis.com%2fauth%2fpeopleapi.readonly\n",
            "\n",
            "Enter your authorization code:\n",
            "··········\n",
            "Mounted at /content/drive\n"
          ],
          "name": "stdout"
        }
      ]
    },
    {
      "cell_type": "markdown",
      "metadata": {
        "id": "f1xFyVPVTQW2",
        "colab_type": "text"
      },
      "source": [
        "**STEP 1: IMPORT DATASETS**"
      ]
    },
    {
      "cell_type": "code",
      "metadata": {
        "id": "HmxNnaBXdoOK",
        "colab_type": "code",
        "outputId": "b941490e-ca31-4d3c-ebad-7ad1380aa8bd",
        "colab": {
          "base_uri": "https://localhost:8080/",
          "height": 72
        }
      },
      "source": [
        "df = pd.read_csv('/content/drive/My Drive/Data for Python/cleaned_311_data_revised.csv', header='infer')"
      ],
      "execution_count": 3,
      "outputs": [
        {
          "output_type": "stream",
          "text": [
            "/usr/local/lib/python3.6/dist-packages/IPython/core/interactiveshell.py:2718: DtypeWarning: Columns (10,19,20,22,33,36,37,38,39) have mixed types. Specify dtype option on import or set low_memory=False.\n",
            "  interactivity=interactivity, compiler=compiler, result=result)\n"
          ],
          "name": "stderr"
        }
      ]
    },
    {
      "cell_type": "code",
      "metadata": {
        "id": "FXwMe5JaeD9Z",
        "colab_type": "code",
        "colab": {}
      },
      "source": [
        "opendata = pd.read_csv('https://data.cityofnewyork.us/api/views/3qem-6v3v/rows.csv?accessType=DOWNLOAD', header='infer')\n"
      ],
      "execution_count": 0,
      "outputs": []
    },
    {
      "cell_type": "markdown",
      "metadata": {
        "id": "vG6uVAlkTYnd",
        "colab_type": "text"
      },
      "source": [
        "**STEP 2: FILTER FOR 9/30/2019 ENTRIES ONLY**"
      ]
    },
    {
      "cell_type": "code",
      "metadata": {
        "id": "WWsdxzPI9Jmn",
        "colab_type": "code",
        "colab": {}
      },
      "source": [
        "opendata.columns = [column.replace(' ', '_').lower() for column in opendata.columns]"
      ],
      "execution_count": 0,
      "outputs": []
    },
    {
      "cell_type": "code",
      "metadata": {
        "id": "IMp3UpisfNXJ",
        "colab_type": "code",
        "colab": {}
      },
      "source": [
        "opendata_subset = opendata[opendata.report_date == '09/30/2019']"
      ],
      "execution_count": 0,
      "outputs": []
    },
    {
      "cell_type": "code",
      "metadata": {
        "id": "K7WBZDsdojqk",
        "colab_type": "code",
        "colab": {}
      },
      "source": [
        "opendata_subset = opendata_subset.drop_duplicates()"
      ],
      "execution_count": 0,
      "outputs": []
    },
    {
      "cell_type": "markdown",
      "metadata": {
        "id": "0ifYvD3bTfu3",
        "colab_type": "text"
      },
      "source": [
        "**STEP 3: CREATE NEW COLUMN OF OVERALL COUNTS**"
      ]
    },
    {
      "cell_type": "code",
      "metadata": {
        "id": "8kz4xijIKVw3",
        "colab_type": "code",
        "colab": {}
      },
      "source": [
        "opendata_subset = opendata_subset.fillna(0)"
      ],
      "execution_count": 0,
      "outputs": []
    },
    {
      "cell_type": "code",
      "metadata": {
        "id": "5baokZeOE8b_",
        "colab_type": "code",
        "colab": {}
      },
      "source": [
        "opendata_subset['shelter_count'] = opendata_subset['adult_family_comm_hotel'] + opendata_subset['adult_family_shelter'] + opendata_subset['adult_shelter'] + opendata_subset['adult_shelter_comm_hotel'] + opendata_subset['fwc_cluster'] + opendata_subset['fwc_comm_hotel'] + opendata_subset['fwc_shelter']"
      ],
      "execution_count": 0,
      "outputs": []
    },
    {
      "cell_type": "code",
      "metadata": {
        "id": "J_aR-BRyMoMb",
        "colab_type": "code",
        "outputId": "37fec43e-5ba2-431e-e713-4a20c02fbb69",
        "colab": {
          "base_uri": "https://localhost:8080/",
          "height": 222
        }
      },
      "source": [
        "opendata_subset.head()"
      ],
      "execution_count": 10,
      "outputs": [
        {
          "output_type": "execute_result",
          "data": {
            "text/html": [
              "<div>\n",
              "<style scoped>\n",
              "    .dataframe tbody tr th:only-of-type {\n",
              "        vertical-align: middle;\n",
              "    }\n",
              "\n",
              "    .dataframe tbody tr th {\n",
              "        vertical-align: top;\n",
              "    }\n",
              "\n",
              "    .dataframe thead th {\n",
              "        text-align: right;\n",
              "    }\n",
              "</style>\n",
              "<table border=\"1\" class=\"dataframe\">\n",
              "  <thead>\n",
              "    <tr style=\"text-align: right;\">\n",
              "      <th></th>\n",
              "      <th>report_date</th>\n",
              "      <th>borough</th>\n",
              "      <th>community_district</th>\n",
              "      <th>adult_family_comm_hotel</th>\n",
              "      <th>adult_family_shelter</th>\n",
              "      <th>adult_shelter</th>\n",
              "      <th>adult_shelter_comm_hotel</th>\n",
              "      <th>fwc_cluster</th>\n",
              "      <th>fwc_comm_hotel</th>\n",
              "      <th>fwc_shelter</th>\n",
              "      <th>shelter_count</th>\n",
              "    </tr>\n",
              "  </thead>\n",
              "  <tbody>\n",
              "    <tr>\n",
              "      <th>624</th>\n",
              "      <td>09/30/2019</td>\n",
              "      <td>Bronx</td>\n",
              "      <td>201</td>\n",
              "      <td>0.0</td>\n",
              "      <td>1.0</td>\n",
              "      <td>2.0</td>\n",
              "      <td>0.0</td>\n",
              "      <td>4.0</td>\n",
              "      <td>1.0</td>\n",
              "      <td>7.0</td>\n",
              "      <td>15.0</td>\n",
              "    </tr>\n",
              "    <tr>\n",
              "      <th>625</th>\n",
              "      <td>09/30/2019</td>\n",
              "      <td>Bronx</td>\n",
              "      <td>202</td>\n",
              "      <td>0.0</td>\n",
              "      <td>1.0</td>\n",
              "      <td>0.0</td>\n",
              "      <td>0.0</td>\n",
              "      <td>2.0</td>\n",
              "      <td>0.0</td>\n",
              "      <td>5.0</td>\n",
              "      <td>8.0</td>\n",
              "    </tr>\n",
              "    <tr>\n",
              "      <th>626</th>\n",
              "      <td>09/30/2019</td>\n",
              "      <td>Bronx</td>\n",
              "      <td>203</td>\n",
              "      <td>0.0</td>\n",
              "      <td>3.0</td>\n",
              "      <td>6.0</td>\n",
              "      <td>0.0</td>\n",
              "      <td>3.0</td>\n",
              "      <td>2.0</td>\n",
              "      <td>9.0</td>\n",
              "      <td>23.0</td>\n",
              "    </tr>\n",
              "    <tr>\n",
              "      <th>627</th>\n",
              "      <td>09/30/2019</td>\n",
              "      <td>Bronx</td>\n",
              "      <td>204</td>\n",
              "      <td>0.0</td>\n",
              "      <td>0.0</td>\n",
              "      <td>2.0</td>\n",
              "      <td>1.0</td>\n",
              "      <td>14.0</td>\n",
              "      <td>0.0</td>\n",
              "      <td>15.0</td>\n",
              "      <td>32.0</td>\n",
              "    </tr>\n",
              "    <tr>\n",
              "      <th>628</th>\n",
              "      <td>09/30/2019</td>\n",
              "      <td>Bronx</td>\n",
              "      <td>205</td>\n",
              "      <td>0.0</td>\n",
              "      <td>1.0</td>\n",
              "      <td>3.0</td>\n",
              "      <td>0.0</td>\n",
              "      <td>12.0</td>\n",
              "      <td>0.0</td>\n",
              "      <td>5.0</td>\n",
              "      <td>21.0</td>\n",
              "    </tr>\n",
              "  </tbody>\n",
              "</table>\n",
              "</div>"
            ],
            "text/plain": [
              "    report_date borough  ...  fwc_shelter  shelter_count\n",
              "624  09/30/2019   Bronx  ...          7.0           15.0\n",
              "625  09/30/2019   Bronx  ...          5.0            8.0\n",
              "626  09/30/2019   Bronx  ...          9.0           23.0\n",
              "627  09/30/2019   Bronx  ...         15.0           32.0\n",
              "628  09/30/2019   Bronx  ...          5.0           21.0\n",
              "\n",
              "[5 rows x 11 columns]"
            ]
          },
          "metadata": {
            "tags": []
          },
          "execution_count": 10
        }
      ]
    },
    {
      "cell_type": "code",
      "metadata": {
        "id": "AVKIZ5tUOQ9i",
        "colab_type": "code",
        "colab": {}
      },
      "source": [
        "opendata_subset = opendata_subset[['community_district', 'shelter_count']]"
      ],
      "execution_count": 0,
      "outputs": []
    },
    {
      "cell_type": "code",
      "metadata": {
        "id": "FqJ_Dm6rhBsv",
        "colab_type": "code",
        "outputId": "e0de4d58-1b51-4ec2-ac7c-4391a3edf46b",
        "colab": {
          "base_uri": "https://localhost:8080/",
          "height": 202
        }
      },
      "source": [
        "opendata_subset.tail()"
      ],
      "execution_count": 14,
      "outputs": [
        {
          "output_type": "execute_result",
          "data": {
            "text/html": [
              "<div>\n",
              "<style scoped>\n",
              "    .dataframe tbody tr th:only-of-type {\n",
              "        vertical-align: middle;\n",
              "    }\n",
              "\n",
              "    .dataframe tbody tr th {\n",
              "        vertical-align: top;\n",
              "    }\n",
              "\n",
              "    .dataframe thead th {\n",
              "        text-align: right;\n",
              "    }\n",
              "</style>\n",
              "<table border=\"1\" class=\"dataframe\">\n",
              "  <thead>\n",
              "    <tr style=\"text-align: right;\">\n",
              "      <th></th>\n",
              "      <th>community_district</th>\n",
              "      <th>shelter_count</th>\n",
              "    </tr>\n",
              "  </thead>\n",
              "  <tbody>\n",
              "    <tr>\n",
              "      <th>671</th>\n",
              "      <td>410</td>\n",
              "      <td>7.0</td>\n",
              "    </tr>\n",
              "    <tr>\n",
              "      <th>672</th>\n",
              "      <td>412</td>\n",
              "      <td>22.0</td>\n",
              "    </tr>\n",
              "    <tr>\n",
              "      <th>673</th>\n",
              "      <td>413</td>\n",
              "      <td>9.0</td>\n",
              "    </tr>\n",
              "    <tr>\n",
              "      <th>674</th>\n",
              "      <td>414</td>\n",
              "      <td>3.0</td>\n",
              "    </tr>\n",
              "    <tr>\n",
              "      <th>675</th>\n",
              "      <td>501</td>\n",
              "      <td>1.0</td>\n",
              "    </tr>\n",
              "  </tbody>\n",
              "</table>\n",
              "</div>"
            ],
            "text/plain": [
              "     community_district  shelter_count\n",
              "671                 410            7.0\n",
              "672                 412           22.0\n",
              "673                 413            9.0\n",
              "674                 414            3.0\n",
              "675                 501            1.0"
            ]
          },
          "metadata": {
            "tags": []
          },
          "execution_count": 14
        }
      ]
    },
    {
      "cell_type": "markdown",
      "metadata": {
        "id": "OWZmFCefTmun",
        "colab_type": "text"
      },
      "source": [
        "**STEP 4: FILTER FOR \"HOMELESS PERSON ASSISTANCE\" COMPLAINT TYPE**"
      ]
    },
    {
      "cell_type": "code",
      "metadata": {
        "id": "fdg8IsXDMIQV",
        "colab_type": "code",
        "colab": {}
      },
      "source": [
        "df_hpa = df[df.complaint_type == 'Homeless Person Assistance']"
      ],
      "execution_count": 0,
      "outputs": []
    },
    {
      "cell_type": "code",
      "metadata": {
        "id": "iHftlF8ZY-49",
        "colab_type": "code",
        "colab": {
          "base_uri": "https://localhost:8080/",
          "height": 413
        },
        "outputId": "dee1f5f6-46cd-4bff-b569-520a758fe187"
      },
      "source": [
        "df_hpa.tail()"
      ],
      "execution_count": 17,
      "outputs": [
        {
          "output_type": "execute_result",
          "data": {
            "text/html": [
              "<div>\n",
              "<style scoped>\n",
              "    .dataframe tbody tr th:only-of-type {\n",
              "        vertical-align: middle;\n",
              "    }\n",
              "\n",
              "    .dataframe tbody tr th {\n",
              "        vertical-align: top;\n",
              "    }\n",
              "\n",
              "    .dataframe thead th {\n",
              "        text-align: right;\n",
              "    }\n",
              "</style>\n",
              "<table border=\"1\" class=\"dataframe\">\n",
              "  <thead>\n",
              "    <tr style=\"text-align: right;\">\n",
              "      <th></th>\n",
              "      <th>Unnamed: 0</th>\n",
              "      <th>Unnamed: 0.1</th>\n",
              "      <th>unique_key</th>\n",
              "      <th>created_date</th>\n",
              "      <th>closed_date</th>\n",
              "      <th>agency</th>\n",
              "      <th>agency_name</th>\n",
              "      <th>complaint_type</th>\n",
              "      <th>descriptor</th>\n",
              "      <th>location_type</th>\n",
              "      <th>incident_zip</th>\n",
              "      <th>incident_address</th>\n",
              "      <th>street_name</th>\n",
              "      <th>cross_street_1</th>\n",
              "      <th>cross_street_2</th>\n",
              "      <th>intersection_street_1</th>\n",
              "      <th>intersection_street_2</th>\n",
              "      <th>address_type</th>\n",
              "      <th>city</th>\n",
              "      <th>landmark</th>\n",
              "      <th>facility_type</th>\n",
              "      <th>status</th>\n",
              "      <th>due_date</th>\n",
              "      <th>resolution_description</th>\n",
              "      <th>resolution_action_updated_date</th>\n",
              "      <th>community_board</th>\n",
              "      <th>bbl</th>\n",
              "      <th>borough</th>\n",
              "      <th>x_coordinate_(state_plane)</th>\n",
              "      <th>y_coordinate_(state_plane)</th>\n",
              "      <th>open_data_channel_type</th>\n",
              "      <th>park_facility_name</th>\n",
              "      <th>park_borough</th>\n",
              "      <th>vehicle_type</th>\n",
              "      <th>taxi_company_borough</th>\n",
              "      <th>taxi_pick_up_location</th>\n",
              "      <th>bridge_highway_name</th>\n",
              "      <th>bridge_highway_direction</th>\n",
              "      <th>road_ramp</th>\n",
              "      <th>bridge_highway_segment</th>\n",
              "      <th>latitude</th>\n",
              "      <th>longitude</th>\n",
              "      <th>location</th>\n",
              "      <th>borocd</th>\n",
              "    </tr>\n",
              "  </thead>\n",
              "  <tbody>\n",
              "    <tr>\n",
              "      <th>2704450</th>\n",
              "      <td>2842611</td>\n",
              "      <td>2842799</td>\n",
              "      <td>43602217</td>\n",
              "      <td>08/21/2019 10:06:46 AM</td>\n",
              "      <td>08/21/2019 12:24:23 PM</td>\n",
              "      <td>DHS</td>\n",
              "      <td>Department of Homeless Services</td>\n",
              "      <td>Homeless Person Assistance</td>\n",
              "      <td>NaN</td>\n",
              "      <td>NaN</td>\n",
              "      <td>10305</td>\n",
              "      <td>1361 HYLAN BOULEVARD</td>\n",
              "      <td>HYLAN BOULEVARD</td>\n",
              "      <td>DAWSON PLACE</td>\n",
              "      <td>DUMONT AVENUE</td>\n",
              "      <td>DAWSON PLACE</td>\n",
              "      <td>DUMONT AVENUE</td>\n",
              "      <td>NaN</td>\n",
              "      <td>STATEN ISLAND</td>\n",
              "      <td>HYLAN BOULEVARD</td>\n",
              "      <td>NaN</td>\n",
              "      <td>Closed</td>\n",
              "      <td>NaN</td>\n",
              "      <td>The mobile outreach response team offered serv...</td>\n",
              "      <td>08/21/2019 12:24:23 PM</td>\n",
              "      <td>02 STATEN ISLAND</td>\n",
              "      <td>5.033230e+09</td>\n",
              "      <td>STATEN ISLAND</td>\n",
              "      <td>960353.0</td>\n",
              "      <td>156243.0</td>\n",
              "      <td>PHONE</td>\n",
              "      <td>Unspecified</td>\n",
              "      <td>STATEN ISLAND</td>\n",
              "      <td>NaN</td>\n",
              "      <td>NaN</td>\n",
              "      <td>NaN</td>\n",
              "      <td>NaN</td>\n",
              "      <td>NaN</td>\n",
              "      <td>NaN</td>\n",
              "      <td>NaN</td>\n",
              "      <td>40.595495</td>\n",
              "      <td>-74.086049</td>\n",
              "      <td>(40.595494954391306, -74.0860485129795)</td>\n",
              "      <td>502.0</td>\n",
              "    </tr>\n",
              "    <tr>\n",
              "      <th>2707639</th>\n",
              "      <td>2845919</td>\n",
              "      <td>2846107</td>\n",
              "      <td>43600526</td>\n",
              "      <td>08/21/2019 08:10:38 PM</td>\n",
              "      <td>08/21/2019 09:31:52 PM</td>\n",
              "      <td>DHS</td>\n",
              "      <td>Department of Homeless Services</td>\n",
              "      <td>Homeless Person Assistance</td>\n",
              "      <td>NaN</td>\n",
              "      <td>NaN</td>\n",
              "      <td>10306</td>\n",
              "      <td>FINLEY AVENUE</td>\n",
              "      <td>FINLEY AVENUE</td>\n",
              "      <td>FINLEY AVENUE</td>\n",
              "      <td>NEW DORP LANE</td>\n",
              "      <td>FINLEY AVENUE</td>\n",
              "      <td>NEW DORP LANE</td>\n",
              "      <td>NaN</td>\n",
              "      <td>NaN</td>\n",
              "      <td>NaN</td>\n",
              "      <td>NaN</td>\n",
              "      <td>Closed</td>\n",
              "      <td>NaN</td>\n",
              "      <td>The mobile outreach response team went to the ...</td>\n",
              "      <td>08/21/2019 09:31:52 PM</td>\n",
              "      <td>02 STATEN ISLAND</td>\n",
              "      <td>NaN</td>\n",
              "      <td>STATEN ISLAND</td>\n",
              "      <td>956036.0</td>\n",
              "      <td>145642.0</td>\n",
              "      <td>PHONE</td>\n",
              "      <td>Unspecified</td>\n",
              "      <td>STATEN ISLAND</td>\n",
              "      <td>NaN</td>\n",
              "      <td>NaN</td>\n",
              "      <td>NaN</td>\n",
              "      <td>NaN</td>\n",
              "      <td>NaN</td>\n",
              "      <td>NaN</td>\n",
              "      <td>NaN</td>\n",
              "      <td>40.566385</td>\n",
              "      <td>-74.101549</td>\n",
              "      <td>(40.566384633382405, -74.10154893713703)</td>\n",
              "      <td>502.0</td>\n",
              "    </tr>\n",
              "    <tr>\n",
              "      <th>2708589</th>\n",
              "      <td>2846898</td>\n",
              "      <td>2847086</td>\n",
              "      <td>43600519</td>\n",
              "      <td>08/22/2019 12:14:28 AM</td>\n",
              "      <td>08/22/2019 03:13:01 AM</td>\n",
              "      <td>DHS</td>\n",
              "      <td>Department of Homeless Services</td>\n",
              "      <td>Homeless Person Assistance</td>\n",
              "      <td>NaN</td>\n",
              "      <td>NaN</td>\n",
              "      <td>10308</td>\n",
              "      <td>NAHANT STREET</td>\n",
              "      <td>NAHANT STREET</td>\n",
              "      <td>CORBIN AVENUE</td>\n",
              "      <td>NAHANT STREET</td>\n",
              "      <td>CORBIN AVENUE</td>\n",
              "      <td>NAHANT STREET</td>\n",
              "      <td>NaN</td>\n",
              "      <td>NaN</td>\n",
              "      <td>NaN</td>\n",
              "      <td>NaN</td>\n",
              "      <td>Closed</td>\n",
              "      <td>NaN</td>\n",
              "      <td>The mobile outreach response team went to the ...</td>\n",
              "      <td>08/22/2019 03:13:01 AM</td>\n",
              "      <td>03 STATEN ISLAND</td>\n",
              "      <td>NaN</td>\n",
              "      <td>STATEN ISLAND</td>\n",
              "      <td>943778.0</td>\n",
              "      <td>143230.0</td>\n",
              "      <td>MOBILE</td>\n",
              "      <td>Unspecified</td>\n",
              "      <td>STATEN ISLAND</td>\n",
              "      <td>NaN</td>\n",
              "      <td>NaN</td>\n",
              "      <td>NaN</td>\n",
              "      <td>NaN</td>\n",
              "      <td>NaN</td>\n",
              "      <td>NaN</td>\n",
              "      <td>NaN</td>\n",
              "      <td>40.559717</td>\n",
              "      <td>-74.145654</td>\n",
              "      <td>(40.55971669097485, -74.1456539081716)</td>\n",
              "      <td>503.0</td>\n",
              "    </tr>\n",
              "    <tr>\n",
              "      <th>2709322</th>\n",
              "      <td>2847656</td>\n",
              "      <td>2847844</td>\n",
              "      <td>43616779</td>\n",
              "      <td>08/22/2019 08:39:46 AM</td>\n",
              "      <td>08/22/2019 09:57:39 AM</td>\n",
              "      <td>DHS</td>\n",
              "      <td>Department of Homeless Services</td>\n",
              "      <td>Homeless Person Assistance</td>\n",
              "      <td>NaN</td>\n",
              "      <td>NaN</td>\n",
              "      <td>10314</td>\n",
              "      <td>661 GANNON AVENUE SOUTH</td>\n",
              "      <td>GANNON AVENUE SOUTH</td>\n",
              "      <td>WOOLLEY AVENUE</td>\n",
              "      <td>WOODWARD AVENUE</td>\n",
              "      <td>WOOLLEY AVENUE</td>\n",
              "      <td>WOODWARD AVENUE</td>\n",
              "      <td>NaN</td>\n",
              "      <td>STATEN ISLAND</td>\n",
              "      <td>SOUTH GANNON AVENUE</td>\n",
              "      <td>NaN</td>\n",
              "      <td>Closed</td>\n",
              "      <td>NaN</td>\n",
              "      <td>The mobile outreach response team offered serv...</td>\n",
              "      <td>08/22/2019 09:57:39 AM</td>\n",
              "      <td>02 STATEN ISLAND</td>\n",
              "      <td>NaN</td>\n",
              "      <td>STATEN ISLAND</td>\n",
              "      <td>944796.0</td>\n",
              "      <td>160540.0</td>\n",
              "      <td>MOBILE</td>\n",
              "      <td>Unspecified</td>\n",
              "      <td>STATEN ISLAND</td>\n",
              "      <td>NaN</td>\n",
              "      <td>NaN</td>\n",
              "      <td>NaN</td>\n",
              "      <td>NaN</td>\n",
              "      <td>NaN</td>\n",
              "      <td>NaN</td>\n",
              "      <td>NaN</td>\n",
              "      <td>40.607234</td>\n",
              "      <td>-74.142091</td>\n",
              "      <td>(40.60723373235313, -74.14209130506785)</td>\n",
              "      <td>502.0</td>\n",
              "    </tr>\n",
              "    <tr>\n",
              "      <th>2715851</th>\n",
              "      <td>2854543</td>\n",
              "      <td>2854732</td>\n",
              "      <td>43624539</td>\n",
              "      <td>08/23/2019 11:35:57 AM</td>\n",
              "      <td>08/23/2019 12:27:23 PM</td>\n",
              "      <td>DHS</td>\n",
              "      <td>Department of Homeless Services</td>\n",
              "      <td>Homeless Person Assistance</td>\n",
              "      <td>NaN</td>\n",
              "      <td>NaN</td>\n",
              "      <td>10310</td>\n",
              "      <td>501 FOREST AVENUE</td>\n",
              "      <td>FOREST AVENUE</td>\n",
              "      <td>BARD AVENUE</td>\n",
              "      <td>NORTH MADA AVENUE</td>\n",
              "      <td>BARD AVENUE</td>\n",
              "      <td>NORTH MADA AVENUE</td>\n",
              "      <td>NaN</td>\n",
              "      <td>STATEN ISLAND</td>\n",
              "      <td>FOREST AVENUE</td>\n",
              "      <td>NaN</td>\n",
              "      <td>Closed</td>\n",
              "      <td>NaN</td>\n",
              "      <td>The mobile outreach response team offered serv...</td>\n",
              "      <td>08/23/2019 12:27:23 PM</td>\n",
              "      <td>01 STATEN ISLAND</td>\n",
              "      <td>5.001470e+09</td>\n",
              "      <td>STATEN ISLAND</td>\n",
              "      <td>954758.0</td>\n",
              "      <td>169030.0</td>\n",
              "      <td>MOBILE</td>\n",
              "      <td>Unspecified</td>\n",
              "      <td>STATEN ISLAND</td>\n",
              "      <td>NaN</td>\n",
              "      <td>NaN</td>\n",
              "      <td>NaN</td>\n",
              "      <td>NaN</td>\n",
              "      <td>NaN</td>\n",
              "      <td>NaN</td>\n",
              "      <td>NaN</td>\n",
              "      <td>40.630576</td>\n",
              "      <td>-74.106251</td>\n",
              "      <td>(40.63057575477373, -74.10625086522197)</td>\n",
              "      <td>501.0</td>\n",
              "    </tr>\n",
              "  </tbody>\n",
              "</table>\n",
              "</div>"
            ],
            "text/plain": [
              "         Unnamed: 0  ...  borocd\n",
              "2704450     2842611  ...   502.0\n",
              "2707639     2845919  ...   502.0\n",
              "2708589     2846898  ...   503.0\n",
              "2709322     2847656  ...   502.0\n",
              "2715851     2854543  ...   501.0\n",
              "\n",
              "[5 rows x 44 columns]"
            ]
          },
          "metadata": {
            "tags": []
          },
          "execution_count": 17
        }
      ]
    },
    {
      "cell_type": "markdown",
      "metadata": {
        "id": "pg9cylb8TtVH",
        "colab_type": "text"
      },
      "source": [
        "**STEP 5: GROUP SUBSET BY COUNT OF \"HOMELESS PERSON ASSISTANCE\" REQUESTS PER COMMUNITY DISTRICT**"
      ]
    },
    {
      "cell_type": "code",
      "metadata": {
        "id": "XyFOMnJ9TM9Y",
        "colab_type": "code",
        "colab": {}
      },
      "source": [
        "df_hpa = df_hpa.groupby('borocd').size().reset_index(name='count_of_311_requests')"
      ],
      "execution_count": 0,
      "outputs": []
    },
    {
      "cell_type": "code",
      "metadata": {
        "id": "YWCJWn7vX2hr",
        "colab_type": "code",
        "outputId": "ca0ad08d-e4e8-4925-d221-883baded02be",
        "colab": {
          "base_uri": "https://localhost:8080/",
          "height": 202
        }
      },
      "source": [
        "df_hpa.tail()\n"
      ],
      "execution_count": 19,
      "outputs": [
        {
          "output_type": "execute_result",
          "data": {
            "text/html": [
              "<div>\n",
              "<style scoped>\n",
              "    .dataframe tbody tr th:only-of-type {\n",
              "        vertical-align: middle;\n",
              "    }\n",
              "\n",
              "    .dataframe tbody tr th {\n",
              "        vertical-align: top;\n",
              "    }\n",
              "\n",
              "    .dataframe thead th {\n",
              "        text-align: right;\n",
              "    }\n",
              "</style>\n",
              "<table border=\"1\" class=\"dataframe\">\n",
              "  <thead>\n",
              "    <tr style=\"text-align: right;\">\n",
              "      <th></th>\n",
              "      <th>borocd</th>\n",
              "      <th>count_of_311_requests</th>\n",
              "    </tr>\n",
              "  </thead>\n",
              "  <tbody>\n",
              "    <tr>\n",
              "      <th>54</th>\n",
              "      <td>413.0</td>\n",
              "      <td>39</td>\n",
              "    </tr>\n",
              "    <tr>\n",
              "      <th>55</th>\n",
              "      <td>414.0</td>\n",
              "      <td>53</td>\n",
              "    </tr>\n",
              "    <tr>\n",
              "      <th>56</th>\n",
              "      <td>501.0</td>\n",
              "      <td>41</td>\n",
              "    </tr>\n",
              "    <tr>\n",
              "      <th>57</th>\n",
              "      <td>502.0</td>\n",
              "      <td>34</td>\n",
              "    </tr>\n",
              "    <tr>\n",
              "      <th>58</th>\n",
              "      <td>503.0</td>\n",
              "      <td>18</td>\n",
              "    </tr>\n",
              "  </tbody>\n",
              "</table>\n",
              "</div>"
            ],
            "text/plain": [
              "    borocd  count_of_311_requests\n",
              "54   413.0                     39\n",
              "55   414.0                     53\n",
              "56   501.0                     41\n",
              "57   502.0                     34\n",
              "58   503.0                     18"
            ]
          },
          "metadata": {
            "tags": []
          },
          "execution_count": 19
        }
      ]
    },
    {
      "cell_type": "markdown",
      "metadata": {
        "id": "VeXN543pW2Yj",
        "colab_type": "text"
      },
      "source": [
        "**STEP 6: MERGE DATA**\n",
        "\n"
      ]
    },
    {
      "cell_type": "code",
      "metadata": {
        "id": "hrP-L8uYW1YB",
        "colab_type": "code",
        "colab": {}
      },
      "source": [
        "merged_data = pd.merge(left=df_hpa, right=opendata_subset, left_on='borocd', right_on='community_district')"
      ],
      "execution_count": 0,
      "outputs": []
    },
    {
      "cell_type": "code",
      "metadata": {
        "id": "DxF328MHaDme",
        "colab_type": "code",
        "colab": {}
      },
      "source": [
        "merged_data = merged_data.fillna(0)"
      ],
      "execution_count": 0,
      "outputs": []
    },
    {
      "cell_type": "code",
      "metadata": {
        "id": "JVn17cezQbl9",
        "colab_type": "code",
        "outputId": "f28e7abe-65cc-48c3-936d-7f17714b3aa8",
        "colab": {
          "base_uri": "https://localhost:8080/",
          "height": 202
        }
      },
      "source": [
        "merged_data.tail()"
      ],
      "execution_count": 22,
      "outputs": [
        {
          "output_type": "execute_result",
          "data": {
            "text/html": [
              "<div>\n",
              "<style scoped>\n",
              "    .dataframe tbody tr th:only-of-type {\n",
              "        vertical-align: middle;\n",
              "    }\n",
              "\n",
              "    .dataframe tbody tr th {\n",
              "        vertical-align: top;\n",
              "    }\n",
              "\n",
              "    .dataframe thead th {\n",
              "        text-align: right;\n",
              "    }\n",
              "</style>\n",
              "<table border=\"1\" class=\"dataframe\">\n",
              "  <thead>\n",
              "    <tr style=\"text-align: right;\">\n",
              "      <th></th>\n",
              "      <th>borocd</th>\n",
              "      <th>count_of_311_requests</th>\n",
              "      <th>community_district</th>\n",
              "      <th>shelter_count</th>\n",
              "    </tr>\n",
              "  </thead>\n",
              "  <tbody>\n",
              "    <tr>\n",
              "      <th>47</th>\n",
              "      <td>410.0</td>\n",
              "      <td>40</td>\n",
              "      <td>410</td>\n",
              "      <td>7.0</td>\n",
              "    </tr>\n",
              "    <tr>\n",
              "      <th>48</th>\n",
              "      <td>412.0</td>\n",
              "      <td>152</td>\n",
              "      <td>412</td>\n",
              "      <td>22.0</td>\n",
              "    </tr>\n",
              "    <tr>\n",
              "      <th>49</th>\n",
              "      <td>413.0</td>\n",
              "      <td>39</td>\n",
              "      <td>413</td>\n",
              "      <td>9.0</td>\n",
              "    </tr>\n",
              "    <tr>\n",
              "      <th>50</th>\n",
              "      <td>414.0</td>\n",
              "      <td>53</td>\n",
              "      <td>414</td>\n",
              "      <td>3.0</td>\n",
              "    </tr>\n",
              "    <tr>\n",
              "      <th>51</th>\n",
              "      <td>501.0</td>\n",
              "      <td>41</td>\n",
              "      <td>501</td>\n",
              "      <td>1.0</td>\n",
              "    </tr>\n",
              "  </tbody>\n",
              "</table>\n",
              "</div>"
            ],
            "text/plain": [
              "    borocd  count_of_311_requests  community_district  shelter_count\n",
              "47   410.0                     40                 410            7.0\n",
              "48   412.0                    152                 412           22.0\n",
              "49   413.0                     39                 413            9.0\n",
              "50   414.0                     53                 414            3.0\n",
              "51   501.0                     41                 501            1.0"
            ]
          },
          "metadata": {
            "tags": []
          },
          "execution_count": 22
        }
      ]
    },
    {
      "cell_type": "markdown",
      "metadata": {
        "id": "eT4N1ajAaVic",
        "colab_type": "text"
      },
      "source": [
        "**STEP 7: SCATTERPLOT**"
      ]
    },
    {
      "cell_type": "code",
      "metadata": {
        "id": "3AHIrmYAatNb",
        "colab_type": "code",
        "outputId": "4ba57d32-8da2-406b-90c2-5ff8482d54bf",
        "colab": {
          "base_uri": "https://localhost:8080/",
          "height": 404
        }
      },
      "source": [
        "y = np.array(merged_data.count_of_311_requests)\n",
        "x = np.array(merged_data.shelter_count)\n",
        "\n",
        "color = '#3d03fc'\n",
        "area = 50 \n",
        "\n",
        "plt.figure(figsize=(15, 6))\n",
        "\n",
        "plt.scatter(x, y, s=area, c=color, edgecolors='black', alpha=0.5) \n",
        "\n",
        "plt.title('Shelter Count vs. Homeless Person Assistance Complaints')\n",
        "plt.ylabel('# of 311 Requests per Community District')\n",
        "plt.xlabel('# of Shelters per Community District')\n",
        "\n",
        "plt.show()"
      ],
      "execution_count": 23,
      "outputs": [
        {
          "output_type": "display_data",
          "data": {
            "image/png": "[encoded data removed]",
            "text/plain": [
              "<Figure size 1080x432 with 1 Axes>"
            ]
          },
          "metadata": {
            "tags": []
          }
        }
      ]
    },
    {
      "cell_type": "markdown",
      "metadata": {
        "id": "nUP4zlwrkrF-",
        "colab_type": "text"
      },
      "source": [
        "At first glance at the scatterplot, there does not seem to be a strong correlation between the number of shelters and count of 311 homeless service requests. "
      ]
    },
    {
      "cell_type": "markdown",
      "metadata": {
        "id": "j-F-XQYhS0Al",
        "colab_type": "text"
      },
      "source": [
        "**STEP 8: FIND THE CORRELATION COEFFICIENT**"
      ]
    },
    {
      "cell_type": "code",
      "metadata": {
        "id": "e4j6CvxiSjjr",
        "colab_type": "code",
        "outputId": "2aefc4eb-608d-4503-cfd1-92b2444c9ceb",
        "colab": {
          "base_uri": "https://localhost:8080/",
          "height": 52
        }
      },
      "source": [
        "np.corrcoef(x, y)"
      ],
      "execution_count": 24,
      "outputs": [
        {
          "output_type": "execute_result",
          "data": {
            "text/plain": [
              "array([[ 1.        , -0.00781267],\n",
              "       [-0.00781267,  1.        ]])"
            ]
          },
          "metadata": {
            "tags": []
          },
          "execution_count": 24
        }
      ]
    },
    {
      "cell_type": "markdown",
      "metadata": {
        "id": "EZOjxSwOS_6u",
        "colab_type": "text"
      },
      "source": [
        "**STEP 9: LINEAR REGRESSION**"
      ]
    },
    {
      "cell_type": "code",
      "metadata": {
        "id": "k8UYsgtcMWa6",
        "colab_type": "code",
        "outputId": "0e75243c-f801-44a6-e132-6213542476f2",
        "colab": {
          "base_uri": "https://localhost:8080/",
          "height": 1000
        }
      },
      "source": [
        "y = np.array(merged_data.count_of_311_requests)\n",
        "x = np.array(merged_data.shelter_count)\n",
        "x = sm.add_constant(x)\n",
        "\n",
        "print(x)\n",
        "\n",
        "model = sm.OLS(y, x).fit()\n",
        "\n",
        "# Print out the statistics\n",
        "\n",
        "print(model.summary())"
      ],
      "execution_count": 26,
      "outputs": [
        {
          "output_type": "stream",
          "text": [
            "[[ 1.  1.]\n",
            " [ 1. 17.]\n",
            " [ 1.  8.]\n",
            " [ 1. 10.]\n",
            " [ 1.  3.]\n",
            " [ 1.  7.]\n",
            " [ 1.  1.]\n",
            " [ 1.  6.]\n",
            " [ 1. 23.]\n",
            " [ 1. 25.]\n",
            " [ 1.  3.]\n",
            " [ 1. 15.]\n",
            " [ 1.  8.]\n",
            " [ 1. 23.]\n",
            " [ 1. 32.]\n",
            " [ 1. 21.]\n",
            " [ 1. 26.]\n",
            " [ 1. 13.]\n",
            " [ 1.  1.]\n",
            " [ 1.  8.]\n",
            " [ 1.  3.]\n",
            " [ 1.  0.]\n",
            " [ 1.  4.]\n",
            " [ 1.  7.]\n",
            " [ 1.  5.]\n",
            " [ 1. 22.]\n",
            " [ 1. 10.]\n",
            " [ 1. 18.]\n",
            " [ 1.  4.]\n",
            " [ 1.  9.]\n",
            " [ 1. 11.]\n",
            " [ 1.  2.]\n",
            " [ 1.  2.]\n",
            " [ 1.  1.]\n",
            " [ 1.  1.]\n",
            " [ 1.  1.]\n",
            " [ 1. 24.]\n",
            " [ 1.  4.]\n",
            " [ 1.  3.]\n",
            " [ 1.  5.]\n",
            " [ 1.  5.]\n",
            " [ 1.  5.]\n",
            " [ 1.  3.]\n",
            " [ 1.  0.]\n",
            " [ 1.  3.]\n",
            " [ 1.  1.]\n",
            " [ 1.  1.]\n",
            " [ 1.  7.]\n",
            " [ 1. 22.]\n",
            " [ 1.  9.]\n",
            " [ 1.  3.]\n",
            " [ 1.  1.]]\n",
            "                            OLS Regression Results                            \n",
            "==============================================================================\n",
            "Dep. Variable:                      y   R-squared:                       0.000\n",
            "Model:                            OLS   Adj. R-squared:                 -0.020\n",
            "Method:                 Least Squares   F-statistic:                  0.003052\n",
            "Date:                Thu, 05 Dec 2019   Prob (F-statistic):              0.956\n",
            "Time:                        00:33:53   Log-Likelihood:                -394.78\n",
            "No. Observations:                  52   AIC:                             793.6\n",
            "Df Residuals:                      50   BIC:                             797.5\n",
            "Df Model:                           1                                         \n",
            "Covariance Type:            nonrobust                                         \n",
            "==============================================================================\n",
            "                 coef    std err          t      P>|t|      [0.025      0.975]\n",
            "------------------------------------------------------------------------------\n",
            "const        291.9771     97.404      2.998      0.004      96.336     487.618\n",
            "x1            -0.4492      8.132     -0.055      0.956     -16.782      15.884\n",
            "==============================================================================\n",
            "Omnibus:                       77.728   Durbin-Watson:                   0.981\n",
            "Prob(Omnibus):                  0.000   Jarque-Bera (JB):              913.279\n",
            "Skew:                           4.103   Prob(JB):                    4.83e-199\n",
            "Kurtosis:                      21.819   Cond. No.                         17.3\n",
            "==============================================================================\n",
            "\n",
            "Warnings:\n",
            "[1] Standard Errors assume that the covariance matrix of the errors is correctly specified.\n"
          ],
          "name": "stdout"
        }
      ]
    },
    {
      "cell_type": "markdown",
      "metadata": {
        "id": "56iiUGaiiSXq",
        "colab_type": "text"
      },
      "source": [
        "**STEP 10: LINEAR REGRESSION SCATTERPLOT**"
      ]
    },
    {
      "cell_type": "code",
      "metadata": {
        "id": "EI9zqf9XiY3w",
        "colab_type": "code",
        "outputId": "53df4205-895c-491c-e193-6fa8fb95b571",
        "colab": {
          "base_uri": "https://localhost:8080/",
          "height": 52
        }
      },
      "source": [
        "p = model.params\n",
        "print('parameters:', p)\n",
        "\n",
        "r2 = model.rsquared\n",
        "print('R2:', r2)"
      ],
      "execution_count": 27,
      "outputs": [
        {
          "output_type": "stream",
          "text": [
            "parameters: [291.97710496  -0.44923816]\n",
            "R2: 6.103776725696619e-05\n"
          ],
          "name": "stdout"
        }
      ]
    },
    {
      "cell_type": "code",
      "metadata": {
        "id": "8V-e-_1JiwYk",
        "colab_type": "code",
        "outputId": "a9a2f2e8-83d4-4b98-a421-a50b2dcab36e",
        "colab": {
          "base_uri": "https://localhost:8080/",
          "height": 35
        }
      },
      "source": [
        "label = 'y = ' + str(round(p[1],2)) + 'x + ' + str(round(p[0],2)) + '; R2 = ' + str(round(r2,3))\n",
        "print(label)"
      ],
      "execution_count": 28,
      "outputs": [
        {
          "output_type": "stream",
          "text": [
            "y = -0.45x + 291.98; R2 = 0.0\n"
          ],
          "name": "stdout"
        }
      ]
    },
    {
      "cell_type": "code",
      "metadata": {
        "id": "GI2FS4dti8Mp",
        "colab_type": "code",
        "outputId": "e7596acc-27f2-46a1-8b0b-236fd80eeeaa",
        "colab": {
          "base_uri": "https://localhost:8080/",
          "height": 404
        }
      },
      "source": [
        "x_dummy = np.array(merged_data.shelter_count)\n",
        "\n",
        "plt.figure(figsize=(15, 6))\n",
        "\n",
        "plt.scatter(\n",
        "    np.array(merged_data.shelter_count), \n",
        "    np.array(merged_data.count_of_311_requests), \n",
        "    s=50, \n",
        "    c='#3d03fc', \n",
        "    edgecolors='black', \n",
        "    alpha=0.5) \n",
        "\n",
        "plt.plot(\n",
        "    x_dummy, \n",
        "    p[0] + p[1] * x_dummy,\n",
        "    c='#00d138', \n",
        "    label=label)\n",
        "\n",
        "plt.title('311 Homeless Person Assistance Requests vs. Shelter Count')\n",
        "plt.xlabel('# of Shelters per Community District')\n",
        "plt.ylabel('# of 311 Requests per Community District')\n",
        "plt.legend()\n",
        "\n",
        "plt.show()"
      ],
      "execution_count": 30,
      "outputs": [
        {
          "output_type": "display_data",
          "data": {
            "image/png": "[encoded data removed]",
            "text/plain": [
              "<Figure size 1080x432 with 1 Axes>"
            ]
          },
          "metadata": {
            "tags": []
          }
        }
      ]
    },
    {
      "cell_type": "markdown",
      "metadata": {
        "id": "N6AM8kfRlWVa",
        "colab_type": "text"
      },
      "source": [
        "Based on the results of the linear regression, there is not a significant relationship between the count of total shelter buildings and the count of homeless requests per community district, as the p-value for the relationship is 0.956 -- it is not even significant at the alpha = 0.05 level. The coefficient of -0.45 for the shelter counts indicates that for every shelter per community district, there will be a 0.45 decrease in homeless person assistance complaints per community district. The lack of a significant (but slightly negative) relationship can be seen by the line of best fit on the scatterplot, which decreases slightly but is pretty much flat. "
      ]
    }
  ]
}