{
  "nbformat": 4,
  "nbformat_minor": 0,
  "metadata": {
    "colab": {
      "name": "HW4.ipynb",
      "provenance": [],
      "collapsed_sections": [],
      "include_colab_link": true
    },
    "kernelspec": {
      "name": "python3",
      "display_name": "Python 3"
    }
  },
  "cells": [
    {
      "cell_type": "markdown",
      "metadata": {
        "id": "view-in-github",
        "colab_type": "text"
      },
      "source": [
        "<a href=\"https://colab.research.google.com/github/mw1849/nyu-python-public-policy/blob/master/HW4.ipynb\" target=\"_parent\"><img src=\"https://colab.research.google.com/assets/colab-badge.svg\" alt=\"Open In Colab\"/></a>"
      ]
    },
    {
      "cell_type": "markdown",
      "metadata": {
        "id": "7fo4kU_UjgyY",
        "colab_type": "text"
      },
      "source": [
        "# **NYU Wagner - Python Coding for Public Policy**\n",
        "# Starter notebook for HW 4: Analyzing and visualizing specific categories of 311 complaints"
      ]
    },
    {
      "cell_type": "markdown",
      "metadata": {
        "id": "9rvnMzjSMK36",
        "colab_type": "text"
      },
      "source": [
        "## Start by importing necessary packages"
      ]
    },
    {
      "cell_type": "code",
      "metadata": {
        "id": "afIn7RhGFj7j",
        "colab_type": "code",
        "colab": {}
      },
      "source": [
        "import pandas as pd\n",
        "import matplotlib.pyplot as plt \n",
        "import numpy as np\n",
        "\n",
        "from google.colab import drive\n",
        "\n",
        "pd.set_option('display.max_columns', None)\n",
        "pd.set_option('display.max_rows', None)"
      ],
      "execution_count": 0,
      "outputs": []
    },
    {
      "cell_type": "markdown",
      "metadata": {
        "id": "R1G04BmMMFJb",
        "colab_type": "text"
      },
      "source": [
        "## Read and save our cleaned 311 Service Requests dataset as a pandas dataframe named \"df\""
      ]
    },
    {
      "cell_type": "code",
      "metadata": {
        "id": "vF4GZaq-Fvoq",
        "colab_type": "code",
        "outputId": "f90733c5-ade1-41b0-9519-2b9223205f8e",
        "colab": {
          "base_uri": "https://localhost:8080/",
          "height": 159
        }
      },
      "source": [
        "drive.mount('/content/drive')\n",
        "df = pd.read_csv('/content/drive/My Drive/Data for Python/cleaned_311_data.csv', header='infer')"
      ],
      "execution_count": 3,
      "outputs": [
        {
          "output_type": "stream",
          "text": [
            "Go to this URL in a browser: https://accounts.google.com/o/oauth2/auth?client_id=947318989803-6bn6qk8qdgf4n4g3pfee6491hc0brc4i.apps.googleusercontent.com&redirect_uri=urn%3aietf%3awg%3aoauth%3a2.0%3aoob&response_type=code&scope=email%20https%3a%2f%2fwww.googleapis.com%2fauth%2fdocs.test%20https%3a%2f%2fwww.googleapis.com%2fauth%2fdrive%20https%3a%2f%2fwww.googleapis.com%2fauth%2fdrive.photos.readonly%20https%3a%2f%2fwww.googleapis.com%2fauth%2fpeopleapi.readonly\n",
            "\n",
            "Enter your authorization code:\n",
            "··········\n",
            "Mounted at /content/drive\n"
          ],
          "name": "stdout"
        },
        {
          "output_type": "stream",
          "text": [
            "/usr/local/lib/python3.6/dist-packages/IPython/core/interactiveshell.py:2718: DtypeWarning: Columns (9,18,21,32,35) have mixed types. Specify dtype option on import or set low_memory=False.\n",
            "  interactivity=interactivity, compiler=compiler, result=result)\n"
          ],
          "name": "stderr"
        }
      ]
    },
    {
      "cell_type": "markdown",
      "metadata": {
        "id": "LvGH8N9CLcj4",
        "colab_type": "text"
      },
      "source": [
        "## **Problem Statement:** \n",
        "There seems to be a general trend that the higher the community district population, the higher the number of 311 requests. However, there is a lot of variance in the data. What if we only look at complaint types that are likely influenced by population?\n",
        "\n",
        "\"Noise - Residential\" and \"HEAT/HOT WATER\" were the most frequest requests in the entire 311 dataset. Let's try isolating the count of requests in each of those two categories versus all the other complaints."
      ]
    },
    {
      "cell_type": "markdown",
      "metadata": {
        "id": "xmKsEI-BkoXZ",
        "colab_type": "text"
      },
      "source": [
        "**Step 1**. First you will need to prep your data to get the count of complaints categorized as Noise - Residential, HEAT/HOT WATER, and everything else. You can update the code from lecture that gets the total count of 311 requests per CD to instead get the count of 311 requests per CD that meet the criteria for the 3 categories. You should create three separate dataframes, one per category:\n",
        "\n",
        "1. `complaint_type = 'Noise - Residential'`\n",
        "2. `complaint_type = 'HEAT/HOT WATER'`\n",
        "3. Everything else: `(complaint_type != 'Noise - Residential') & (complaint_type != 'HEAT/HOT WATER')`"
      ]
    },
    {
      "cell_type": "markdown",
      "metadata": {
        "id": "WLfodgid1PUf",
        "colab_type": "text"
      },
      "source": [
        "First create 3 dataframes, that contain the desired rows based on the complaint_type row filtering."
      ]
    },
    {
      "cell_type": "code",
      "metadata": {
        "id": "troJZFWgq9zg",
        "colab_type": "code",
        "colab": {}
      },
      "source": [
        "noise = df[df.complaint_type == 'Noise - Residential']\n",
        "heatwater = df[df.complaint_type == 'HEAT/HOT WATER']\n",
        "other = df[(df.complaint_type != 'HEAT/HOT WATER') & (df.complaint_type != 'Noise - Residential')]"
      ],
      "execution_count": 0,
      "outputs": []
    },
    {
      "cell_type": "markdown",
      "metadata": {
        "id": "Y4zBrzYhUDP3",
        "colab_type": "text"
      },
      "source": [
        "Then group each dataframes by the `community_board` value to get the count of request per community district."
      ]
    },
    {
      "cell_type": "code",
      "metadata": {
        "id": "hLIoPlYrUClp",
        "colab_type": "code",
        "outputId": "d1acb504-a5e9-4040-b783-6c5f88061263",
        "colab": {
          "base_uri": "https://localhost:8080/",
          "height": 87
        }
      },
      "source": [
        "count_noise = noise.groupby('community_board').size().reset_index(name='count_of_311_requests')\n",
        "print(len(count_noise))\n",
        "\n",
        "count_heatwater = heatwater.groupby('community_board').size().reset_index(name='count_of_311_requests')\n",
        "print(len(count_heatwater))\n",
        "\n",
        "count_other = other.groupby('community_board').size().reset_index(name='count_of_311_requests')\n",
        "print(len(count_other))\n",
        "\n",
        "# note: we won't use count_all in the charts, but we can use it as a check that the subsets all add up to the correct total\n",
        "count_all = df.groupby('community_board').size().reset_index(name='count_of_311_requests')\n",
        "print(len(count_all))"
      ],
      "execution_count": 5,
      "outputs": [
        {
          "output_type": "stream",
          "text": [
            "69\n",
            "66\n",
            "77\n",
            "77\n"
          ],
          "name": "stdout"
        }
      ]
    },
    {
      "cell_type": "markdown",
      "metadata": {
        "id": "JCA-z7Go0_BM",
        "colab_type": "text"
      },
      "source": [
        "Note the lengths of these dataframes. We can see that we're going to run into problems, because they're each a different length (i.e. have a different number of rows) and they're all greater than 59. There are only 59 community districts in the city, so these dataframes are including some extra invalid community district rows. The invalid rows include community board values containing \"Unspecified\" or district numbers that are higher than what exist in real life. Ex: '84 QUEENS', 'Unspecified BRONX'\n"
      ]
    },
    {
      "cell_type": "markdown",
      "metadata": {
        "id": "bFtFoNIh2OUo",
        "colab_type": "text"
      },
      "source": [
        "Here's a list of all the valid borocd values that exist in the city:"
      ]
    },
    {
      "cell_type": "code",
      "metadata": {
        "id": "ATGOqZ4E2H3f",
        "colab_type": "code",
        "colab": {}
      },
      "source": [
        "valid_borocds = ['101','102','103','104','105','106','107','108','109','110','111','112','201','202','203','204','205','206','207','208','209','210','211','212','301','302','303','304','305','306','307','308','309','310','311','312','313','314','315','316','317','318','401','402','403','404','405','406','407','408','409','410','411','412','413','414','501','502','503']"
      ],
      "execution_count": 0,
      "outputs": []
    },
    {
      "cell_type": "markdown",
      "metadata": {
        "id": "lxVd_nzZ1zHM",
        "colab_type": "text"
      },
      "source": [
        "If we recode the community_board column into borocd, we can filter our dataframes to only keep valid borocd rows"
      ]
    },
    {
      "cell_type": "code",
      "metadata": {
        "id": "DJwokPlrGNKv",
        "colab_type": "code",
        "colab": {}
      },
      "source": [
        "# this function will recode the community_board value into borocd in a new column\n",
        "\n",
        "def recode_borocd_counts(row):\n",
        "  if row.community_board[0] != 'U':\n",
        "    if 'MANHATTAN' in row.community_board:\n",
        "      return '1' + row.community_board[0:2]\n",
        "    elif 'BRONX' in row.community_board:\n",
        "      return '2' + row.community_board[0:2]\n",
        "    elif 'BROOKLYN' in row.community_board:\n",
        "      return '3' + row.community_board[0:2]\n",
        "    elif 'QUEENS' in row.community_board:\n",
        "      return '4' + row.community_board[0:2]\n",
        "    elif 'STATEN ISLAND' in row.community_board:\n",
        "      return '5' + row.community_board[0:2]\n",
        "  else:\n",
        "    return 'Invalid borocd'\n",
        "\n",
        "# we can apply the function to each of our dataframes. this is the beauty of functions; you can reuse them on multiple objects!\n",
        "\n",
        "count_noise['borocd'] = count_noise.apply(recode_borocd_counts, axis=1)\n",
        "\n",
        "count_heatwater['borocd'] = count_heatwater.apply(recode_borocd_counts, axis=1)\n",
        "\n",
        "count_other['borocd'] = count_other.apply(recode_borocd_counts, axis=1)\n",
        "\n",
        "count_all['borocd'] = count_all.apply(recode_borocd_counts, axis=1)"
      ],
      "execution_count": 0,
      "outputs": []
    },
    {
      "cell_type": "markdown",
      "metadata": {
        "id": "sud8LNl03bkK",
        "colab_type": "text"
      },
      "source": [
        "Now we can filter the dataframes to only keep the valid borocd rows. Remember the `.isin()` function from one of our prior lectures?"
      ]
    },
    {
      "cell_type": "code",
      "metadata": {
        "id": "APZ8jJwJ3Bmy",
        "colab_type": "code",
        "outputId": "90661c0a-dab9-48ba-bb97-b026e6edc38d",
        "colab": {
          "base_uri": "https://localhost:8080/",
          "height": 87
        }
      },
      "source": [
        "count_noise = count_noise[count_noise.borocd.isin(valid_borocds)]\n",
        "print(len(count_noise))\n",
        "\n",
        "count_heatwater = count_heatwater[count_heatwater.borocd.isin(valid_borocds)]\n",
        "print(len(count_heatwater))\n",
        "\n",
        "count_other = count_other[count_other.borocd.isin(valid_borocds)]\n",
        "print(len(count_other))\n",
        "\n",
        "count_all = count_all[count_all.borocd.isin(valid_borocds)]\n",
        "print(len(count_all))"
      ],
      "execution_count": 8,
      "outputs": [
        {
          "output_type": "stream",
          "text": [
            "59\n",
            "59\n",
            "59\n",
            "59\n"
          ],
          "name": "stdout"
        }
      ]
    },
    {
      "cell_type": "markdown",
      "metadata": {
        "id": "lzg5cgR93vgD",
        "colab_type": "text"
      },
      "source": [
        "Great, now we have clean dataframes that are all the same, correct length. Let's make sure the 311 request counts add up as expected."
      ]
    },
    {
      "cell_type": "code",
      "metadata": {
        "id": "9fAx9jYT459Q",
        "colab_type": "code",
        "outputId": "32ed65e2-b42f-4e8b-b2a5-5cda7560c93c",
        "colab": {
          "base_uri": "https://localhost:8080/",
          "height": 433
        }
      },
      "source": [
        "print(count_noise.head())\n",
        "print(count_heatwater.head())\n",
        "print(count_other.head())\n",
        "print(count_all.head())"
      ],
      "execution_count": 9,
      "outputs": [
        {
          "output_type": "stream",
          "text": [
            "    community_board  count_of_311_requests borocd\n",
            "1          01 BRONX                   3691    201\n",
            "2       01 BROOKLYN                   5844    301\n",
            "3      01 MANHATTAN                    722    101\n",
            "4         01 QUEENS                   4589    401\n",
            "5  01 STATEN ISLAND                   5052    501\n",
            "    community_board  count_of_311_requests borocd\n",
            "0          01 BRONX                   3346    201\n",
            "1       01 BROOKLYN                   2868    301\n",
            "2      01 MANHATTAN                    276    101\n",
            "3         01 QUEENS                   2466    401\n",
            "4  01 STATEN ISLAND                   1644    501\n",
            "    community_board  count_of_311_requests borocd\n",
            "1          01 BRONX                  20316    201\n",
            "2       01 BROOKLYN                  59389    301\n",
            "3      01 MANHATTAN                  20261    101\n",
            "4         01 QUEENS                  53370    401\n",
            "5  01 STATEN ISLAND                  58449    501\n",
            "    community_board  count_of_311_requests borocd\n",
            "1          01 BRONX                  27353    201\n",
            "2       01 BROOKLYN                  68101    301\n",
            "3      01 MANHATTAN                  21259    101\n",
            "4         01 QUEENS                  60425    401\n",
            "5  01 STATEN ISLAND                  65145    501\n"
          ],
          "name": "stdout"
        }
      ]
    },
    {
      "cell_type": "code",
      "metadata": {
        "id": "PuNKZhxg-VLg",
        "colab_type": "code",
        "outputId": "f837bbe4-b28f-4fb7-f7c3-5fe21821db43",
        "colab": {
          "base_uri": "https://localhost:8080/",
          "height": 35
        }
      },
      "source": [
        "27353 == 20316 + 3346 + 3691"
      ],
      "execution_count": 10,
      "outputs": [
        {
          "output_type": "execute_result",
          "data": {
            "text/plain": [
              "True"
            ]
          },
          "metadata": {
            "tags": []
          },
          "execution_count": 10
        }
      ]
    },
    {
      "cell_type": "markdown",
      "metadata": {
        "id": "ih2iDxK9RlnM",
        "colab_type": "text"
      },
      "source": [
        "Everything adds up, and we're ready to start Step 2"
      ]
    },
    {
      "cell_type": "markdown",
      "metadata": {
        "id": "1X6gVfhFlXf_",
        "colab_type": "text"
      },
      "source": [
        "**Step 2**. Create a stacked bar chart of 311 requests per community district. Each community district bar should be comprised of three stacked bars, one for each category listed below. The total height of each community district bar (the sum of the three stacked bars) should reflect the total count of 311 complaints per community district.\n",
        "- number of `'Noise - Residential'` complaints per community district\n",
        "- number of `'HEAT/HOT WATER'` complaints per community district\n",
        "- number of other complaints per community district "
      ]
    },
    {
      "cell_type": "code",
      "metadata": {
        "id": "D8muMVh1P7i8",
        "colab_type": "code",
        "outputId": "9ab13e6e-cac1-4a94-960f-9a18a62ab29d",
        "colab": {
          "base_uri": "https://localhost:8080/",
          "height": 413
        }
      },
      "source": [
        "position_on_x = np.arange(len(count_all))\n",
        "\n",
        "noise_plot = np.array(count_noise.count_of_311_requests)\n",
        "heat_plot = np.array(count_heatwater.count_of_311_requests)\n",
        "other_plot = np.array(count_other.count_of_311_requests)\n",
        "\n",
        "plt.figure(figsize=(15, 6))\n",
        "\n",
        "plot1 = plt.bar(\n",
        "  position_on_x,\n",
        "  noise_plot,\n",
        "  align='center',\n",
        "  color='blue',\n",
        "  label='Noise - Residential'\n",
        ")\n",
        "\n",
        "plot2 = plt.bar(\n",
        "  position_on_x,\n",
        "  heat_plot,\n",
        "  bottom=noise_plot, \n",
        "  align='center',\n",
        "  color='green',\n",
        "  label= 'Heat/Hot Water'\n",
        ")\n",
        "\n",
        "plot3 = plt.bar(\n",
        "    position_on_x,\n",
        "    other_plot,\n",
        "    bottom=heat_plot+noise_plot,\n",
        "    align='center',\n",
        "    color = 'purple',\n",
        "    label = 'Other'\n",
        ")\n",
        "\n",
        "plt.xticks(position_on_x, count_all.borocd, rotation=90)\n",
        "\n",
        "\n",
        "plt.title('Count of 311 Requests per Community District')\n",
        "plt.xlabel('BoroCD')\n",
        "plt.ylabel('# of Requests')\n",
        "plt.legend()\n",
        "\n",
        "\n",
        "plt.show()\n",
        "\n"
      ],
      "execution_count": 11,
      "outputs": [
        {
          "output_type": "display_data",
          "data": {
            "image/png": "[encoded data removed]",
            "text/plain": [
              "<Figure size 1080x432 with 1 Axes>"
            ]
          },
          "metadata": {
            "tags": []
          }
        }
      ]
    },
    {
      "cell_type": "markdown",
      "metadata": {
        "id": "OmKWCK9GlzgY",
        "colab_type": "text"
      },
      "source": [
        "**Step 3**. Using the same three dataframes created in Step 1, create a scatter plot of community district population (x-axis) vs. community district 311 counts (y-axis) split out by complaint category (noise, heat/water, other). The scatter plot should show the counts of each of the three complaint categories in a different color."
      ]
    },
    {
      "cell_type": "code",
      "metadata": {
        "id": "FGUOvpscggHa",
        "colab_type": "code",
        "outputId": "18a4e848-4139-4947-dce3-6800bc3d76b6",
        "colab": {
          "base_uri": "https://localhost:8080/",
          "height": 202
        }
      },
      "source": [
        "#load in population dataset\n",
        "population = pd.read_csv('https://data.cityofnewyork.us/api/views/xi7c-iiu2/rows.csv?accessType=DOWNLOAD', header='infer')\n",
        "population.head()"
      ],
      "execution_count": 12,
      "outputs": [
        {
          "output_type": "execute_result",
          "data": {
            "text/html": [
              "<div>\n",
              "<style scoped>\n",
              "    .dataframe tbody tr th:only-of-type {\n",
              "        vertical-align: middle;\n",
              "    }\n",
              "\n",
              "    .dataframe tbody tr th {\n",
              "        vertical-align: top;\n",
              "    }\n",
              "\n",
              "    .dataframe thead th {\n",
              "        text-align: right;\n",
              "    }\n",
              "</style>\n",
              "<table border=\"1\" class=\"dataframe\">\n",
              "  <thead>\n",
              "    <tr style=\"text-align: right;\">\n",
              "      <th></th>\n",
              "      <th>Borough</th>\n",
              "      <th>CD Number</th>\n",
              "      <th>CD Name</th>\n",
              "      <th>1970 Population</th>\n",
              "      <th>1980 Population</th>\n",
              "      <th>1990 Population</th>\n",
              "      <th>2000 Population</th>\n",
              "      <th>2010 Population</th>\n",
              "    </tr>\n",
              "  </thead>\n",
              "  <tbody>\n",
              "    <tr>\n",
              "      <th>0</th>\n",
              "      <td>Bronx</td>\n",
              "      <td>1</td>\n",
              "      <td>Melrose, Mott Haven, Port Morris</td>\n",
              "      <td>138557</td>\n",
              "      <td>78441</td>\n",
              "      <td>77214</td>\n",
              "      <td>82159</td>\n",
              "      <td>91497</td>\n",
              "    </tr>\n",
              "    <tr>\n",
              "      <th>1</th>\n",
              "      <td>Bronx</td>\n",
              "      <td>2</td>\n",
              "      <td>Hunts Point, Longwood</td>\n",
              "      <td>99493</td>\n",
              "      <td>34399</td>\n",
              "      <td>39443</td>\n",
              "      <td>46824</td>\n",
              "      <td>52246</td>\n",
              "    </tr>\n",
              "    <tr>\n",
              "      <th>2</th>\n",
              "      <td>Bronx</td>\n",
              "      <td>3</td>\n",
              "      <td>Morrisania, Crotona Park East</td>\n",
              "      <td>150636</td>\n",
              "      <td>53635</td>\n",
              "      <td>57162</td>\n",
              "      <td>68574</td>\n",
              "      <td>79762</td>\n",
              "    </tr>\n",
              "    <tr>\n",
              "      <th>3</th>\n",
              "      <td>Bronx</td>\n",
              "      <td>4</td>\n",
              "      <td>Highbridge, Concourse Village</td>\n",
              "      <td>144207</td>\n",
              "      <td>114312</td>\n",
              "      <td>119962</td>\n",
              "      <td>139563</td>\n",
              "      <td>146441</td>\n",
              "    </tr>\n",
              "    <tr>\n",
              "      <th>4</th>\n",
              "      <td>Bronx</td>\n",
              "      <td>5</td>\n",
              "      <td>University Hts., Fordham, Mt. Hope</td>\n",
              "      <td>121807</td>\n",
              "      <td>107995</td>\n",
              "      <td>118435</td>\n",
              "      <td>128313</td>\n",
              "      <td>128200</td>\n",
              "    </tr>\n",
              "  </tbody>\n",
              "</table>\n",
              "</div>"
            ],
            "text/plain": [
              "  Borough  CD Number                             CD Name  1970 Population  \\\n",
              "0   Bronx          1    Melrose, Mott Haven, Port Morris           138557   \n",
              "1   Bronx          2               Hunts Point, Longwood            99493   \n",
              "2   Bronx          3       Morrisania, Crotona Park East           150636   \n",
              "3   Bronx          4       Highbridge, Concourse Village           144207   \n",
              "4   Bronx          5  University Hts., Fordham, Mt. Hope           121807   \n",
              "\n",
              "   1980 Population  1990 Population  2000 Population  2010 Population  \n",
              "0            78441            77214            82159            91497  \n",
              "1            34399            39443            46824            52246  \n",
              "2            53635            57162            68574            79762  \n",
              "3           114312           119962           139563           146441  \n",
              "4           107995           118435           128313           128200  "
            ]
          },
          "metadata": {
            "tags": []
          },
          "execution_count": 12
        }
      ]
    },
    {
      "cell_type": "code",
      "metadata": {
        "id": "PP1BZsBwgmRL",
        "colab_type": "code",
        "outputId": "0e02a98e-76dd-4ac7-a368-1ff46f3b5f6a",
        "colab": {
          "base_uri": "https://localhost:8080/",
          "height": 202
        }
      },
      "source": [
        "def recode_borocd_pop(row):\n",
        "  if row.Borough == 'Manhattan':\n",
        "    return str(100 + row['CD Number'])\n",
        "  elif row.Borough == 'Bronx':\n",
        "    return str(200 + row['CD Number'])\n",
        "  elif row.Borough == 'Brooklyn':\n",
        "    return str(300 + row['CD Number'])\n",
        "  elif row.Borough == 'Queens':\n",
        "    return str(400 + row['CD Number'])\n",
        "  elif row.Borough == 'Staten Island':\n",
        "    return str(500 + row['CD Number'])\n",
        "  else:\n",
        "    return 'Invalid borocd'\n",
        "\n",
        "population['borocd'] = population.apply(recode_borocd_pop, axis=1)\n",
        "population.head()\n"
      ],
      "execution_count": 13,
      "outputs": [
        {
          "output_type": "execute_result",
          "data": {
            "text/html": [
              "<div>\n",
              "<style scoped>\n",
              "    .dataframe tbody tr th:only-of-type {\n",
              "        vertical-align: middle;\n",
              "    }\n",
              "\n",
              "    .dataframe tbody tr th {\n",
              "        vertical-align: top;\n",
              "    }\n",
              "\n",
              "    .dataframe thead th {\n",
              "        text-align: right;\n",
              "    }\n",
              "</style>\n",
              "<table border=\"1\" class=\"dataframe\">\n",
              "  <thead>\n",
              "    <tr style=\"text-align: right;\">\n",
              "      <th></th>\n",
              "      <th>Borough</th>\n",
              "      <th>CD Number</th>\n",
              "      <th>CD Name</th>\n",
              "      <th>1970 Population</th>\n",
              "      <th>1980 Population</th>\n",
              "      <th>1990 Population</th>\n",
              "      <th>2000 Population</th>\n",
              "      <th>2010 Population</th>\n",
              "      <th>borocd</th>\n",
              "    </tr>\n",
              "  </thead>\n",
              "  <tbody>\n",
              "    <tr>\n",
              "      <th>0</th>\n",
              "      <td>Bronx</td>\n",
              "      <td>1</td>\n",
              "      <td>Melrose, Mott Haven, Port Morris</td>\n",
              "      <td>138557</td>\n",
              "      <td>78441</td>\n",
              "      <td>77214</td>\n",
              "      <td>82159</td>\n",
              "      <td>91497</td>\n",
              "      <td>201</td>\n",
              "    </tr>\n",
              "    <tr>\n",
              "      <th>1</th>\n",
              "      <td>Bronx</td>\n",
              "      <td>2</td>\n",
              "      <td>Hunts Point, Longwood</td>\n",
              "      <td>99493</td>\n",
              "      <td>34399</td>\n",
              "      <td>39443</td>\n",
              "      <td>46824</td>\n",
              "      <td>52246</td>\n",
              "      <td>202</td>\n",
              "    </tr>\n",
              "    <tr>\n",
              "      <th>2</th>\n",
              "      <td>Bronx</td>\n",
              "      <td>3</td>\n",
              "      <td>Morrisania, Crotona Park East</td>\n",
              "      <td>150636</td>\n",
              "      <td>53635</td>\n",
              "      <td>57162</td>\n",
              "      <td>68574</td>\n",
              "      <td>79762</td>\n",
              "      <td>203</td>\n",
              "    </tr>\n",
              "    <tr>\n",
              "      <th>3</th>\n",
              "      <td>Bronx</td>\n",
              "      <td>4</td>\n",
              "      <td>Highbridge, Concourse Village</td>\n",
              "      <td>144207</td>\n",
              "      <td>114312</td>\n",
              "      <td>119962</td>\n",
              "      <td>139563</td>\n",
              "      <td>146441</td>\n",
              "      <td>204</td>\n",
              "    </tr>\n",
              "    <tr>\n",
              "      <th>4</th>\n",
              "      <td>Bronx</td>\n",
              "      <td>5</td>\n",
              "      <td>University Hts., Fordham, Mt. Hope</td>\n",
              "      <td>121807</td>\n",
              "      <td>107995</td>\n",
              "      <td>118435</td>\n",
              "      <td>128313</td>\n",
              "      <td>128200</td>\n",
              "      <td>205</td>\n",
              "    </tr>\n",
              "  </tbody>\n",
              "</table>\n",
              "</div>"
            ],
            "text/plain": [
              "  Borough  CD Number                             CD Name  1970 Population  \\\n",
              "0   Bronx          1    Melrose, Mott Haven, Port Morris           138557   \n",
              "1   Bronx          2               Hunts Point, Longwood            99493   \n",
              "2   Bronx          3       Morrisania, Crotona Park East           150636   \n",
              "3   Bronx          4       Highbridge, Concourse Village           144207   \n",
              "4   Bronx          5  University Hts., Fordham, Mt. Hope           121807   \n",
              "\n",
              "   1980 Population  1990 Population  2000 Population  2010 Population borocd  \n",
              "0            78441            77214            82159            91497    201  \n",
              "1            34399            39443            46824            52246    202  \n",
              "2            53635            57162            68574            79762    203  \n",
              "3           114312           119962           139563           146441    204  \n",
              "4           107995           118435           128313           128200    205  "
            ]
          },
          "metadata": {
            "tags": []
          },
          "execution_count": 13
        }
      ]
    },
    {
      "cell_type": "code",
      "metadata": {
        "id": "h7kQ29qKhEIr",
        "colab_type": "code",
        "outputId": "710647e9-5eae-4d12-eb12-8385e2886468",
        "colab": {
          "base_uri": "https://localhost:8080/",
          "height": 202
        }
      },
      "source": [
        "merged_data_noise = pd.merge(left=count_noise, right=population, left_on='borocd', right_on='borocd')\n",
        "merged_data_heatwater = pd.merge(left=count_heatwater, right=population, left_on='borocd', right_on='borocd')\n",
        "merged_data_other = pd.merge(left=count_other, right=population, left_on='borocd', right_on='borocd')\n",
        "\n",
        "cd_noise = merged_data_noise[['borocd', 'Borough', 'CD Name', '2010 Population', 'count_of_311_requests']]\n",
        "cd_heatwater = merged_data_heatwater[['borocd', 'Borough', 'CD Name', '2010 Population', 'count_of_311_requests']]\n",
        "cd_other = merged_data_other[['borocd', 'Borough', 'CD Name', '2010 Population', 'count_of_311_requests']]\n",
        "\n",
        "cd_noise.head()"
      ],
      "execution_count": 14,
      "outputs": [
        {
          "output_type": "execute_result",
          "data": {
            "text/html": [
              "<div>\n",
              "<style scoped>\n",
              "    .dataframe tbody tr th:only-of-type {\n",
              "        vertical-align: middle;\n",
              "    }\n",
              "\n",
              "    .dataframe tbody tr th {\n",
              "        vertical-align: top;\n",
              "    }\n",
              "\n",
              "    .dataframe thead th {\n",
              "        text-align: right;\n",
              "    }\n",
              "</style>\n",
              "<table border=\"1\" class=\"dataframe\">\n",
              "  <thead>\n",
              "    <tr style=\"text-align: right;\">\n",
              "      <th></th>\n",
              "      <th>borocd</th>\n",
              "      <th>Borough</th>\n",
              "      <th>CD Name</th>\n",
              "      <th>2010 Population</th>\n",
              "      <th>count_of_311_requests</th>\n",
              "    </tr>\n",
              "  </thead>\n",
              "  <tbody>\n",
              "    <tr>\n",
              "      <th>0</th>\n",
              "      <td>201</td>\n",
              "      <td>Bronx</td>\n",
              "      <td>Melrose, Mott Haven, Port Morris</td>\n",
              "      <td>91497</td>\n",
              "      <td>3691</td>\n",
              "    </tr>\n",
              "    <tr>\n",
              "      <th>1</th>\n",
              "      <td>301</td>\n",
              "      <td>Brooklyn</td>\n",
              "      <td>Williamsburg, Greenpoint</td>\n",
              "      <td>173083</td>\n",
              "      <td>5844</td>\n",
              "    </tr>\n",
              "    <tr>\n",
              "      <th>2</th>\n",
              "      <td>101</td>\n",
              "      <td>Manhattan</td>\n",
              "      <td>Battery Park City, Tribeca</td>\n",
              "      <td>60978</td>\n",
              "      <td>722</td>\n",
              "    </tr>\n",
              "    <tr>\n",
              "      <th>3</th>\n",
              "      <td>401</td>\n",
              "      <td>Queens</td>\n",
              "      <td>Astoria, Long Island City</td>\n",
              "      <td>191105</td>\n",
              "      <td>4589</td>\n",
              "    </tr>\n",
              "    <tr>\n",
              "      <th>4</th>\n",
              "      <td>501</td>\n",
              "      <td>Staten Island</td>\n",
              "      <td>Stapleton, Port Richmond</td>\n",
              "      <td>175756</td>\n",
              "      <td>5052</td>\n",
              "    </tr>\n",
              "  </tbody>\n",
              "</table>\n",
              "</div>"
            ],
            "text/plain": [
              "  borocd        Borough                           CD Name  2010 Population  \\\n",
              "0    201          Bronx  Melrose, Mott Haven, Port Morris            91497   \n",
              "1    301       Brooklyn          Williamsburg, Greenpoint           173083   \n",
              "2    101      Manhattan        Battery Park City, Tribeca            60978   \n",
              "3    401         Queens         Astoria, Long Island City           191105   \n",
              "4    501  Staten Island          Stapleton, Port Richmond           175756   \n",
              "\n",
              "   count_of_311_requests  \n",
              "0                   3691  \n",
              "1                   5844  \n",
              "2                    722  \n",
              "3                   4589  \n",
              "4                   5052  "
            ]
          },
          "metadata": {
            "tags": []
          },
          "execution_count": 14
        }
      ]
    },
    {
      "cell_type": "code",
      "metadata": {
        "id": "QFwWzt8uJecX",
        "colab_type": "code",
        "outputId": "baaa9158-b679-4304-ad4c-48dc03d53284",
        "colab": {
          "base_uri": "https://localhost:8080/",
          "height": 1000
        }
      },
      "source": [
        "noise_cds = [\n",
        "  # we are creating a list of two lists. x = population in thousands\n",
        "  [cd_noise['2010 Population']/1000],\n",
        "  # y = count of 311 requests\n",
        "  [cd_noise.count_of_311_requests]\n",
        "]\n",
        "\n",
        "heatwater_cds = [\n",
        "  [cd_heatwater['2010 Population']/1000],\n",
        "  [cd_heatwater.count_of_311_requests]\n",
        "]\n",
        "\n",
        "other_cds = [\n",
        "  [cd_other['2010 Population']/1000],\n",
        "  [cd_other.count_of_311_requests]\n",
        "]\n",
        "\n",
        "print(noise_cds)"
      ],
      "execution_count": 15,
      "outputs": [
        {
          "output_type": "stream",
          "text": [
            "[[0      91.497\n",
            "1     173.083\n",
            "2      60.978\n",
            "3     191.105\n",
            "4     175.756\n",
            "5      52.246\n",
            "6      99.617\n",
            "7      90.016\n",
            "8     113.200\n",
            "9     132.003\n",
            "10     79.762\n",
            "11    152.985\n",
            "12    163.277\n",
            "13    171.576\n",
            "14    160.209\n",
            "15    146.441\n",
            "16    112.634\n",
            "17    103.245\n",
            "18    172.598\n",
            "19    128.200\n",
            "20    182.896\n",
            "21     51.673\n",
            "22    169.190\n",
            "23     83.268\n",
            "24    104.709\n",
            "25    142.745\n",
            "26    113.257\n",
            "27    139.286\n",
            "28    126.230\n",
            "29    209.084\n",
            "30    247.354\n",
            "31    101.731\n",
            "32     96.317\n",
            "33    219.920\n",
            "34    151.107\n",
            "35    172.298\n",
            "36     98.429\n",
            "37    110.193\n",
            "38    143.317\n",
            "39    120.392\n",
            "40    124.491\n",
            "41    115.723\n",
            "42    122.396\n",
            "43    113.232\n",
            "44    181.981\n",
            "45    120.511\n",
            "46    116.431\n",
            "47    152.344\n",
            "48    191.382\n",
            "49    190.020\n",
            "50    225.919\n",
            "51    104.278\n",
            "52    188.593\n",
            "53    160.664\n",
            "54    114.978\n",
            "55    159.650\n",
            "56     86.468\n",
            "57    155.252\n",
            "58    193.543\n",
            "Name: 2010 Population, dtype: float64], [0      3691\n",
            "1      5844\n",
            "2       722\n",
            "3      4589\n",
            "4      5052\n",
            "5      1939\n",
            "6      3795\n",
            "7      1837\n",
            "8      2279\n",
            "9      1592\n",
            "10     4238\n",
            "11     7898\n",
            "12     6272\n",
            "13     3881\n",
            "14     1188\n",
            "15     7407\n",
            "16     6394\n",
            "17     2702\n",
            "18     2710\n",
            "19     6819\n",
            "20     5225\n",
            "21      741\n",
            "22     4911\n",
            "23     3871\n",
            "24     1884\n",
            "25     2078\n",
            "26     1835\n",
            "27     9207\n",
            "28     1948\n",
            "29     4297\n",
            "30     3276\n",
            "31     4406\n",
            "32     4068\n",
            "33     2283\n",
            "34     4429\n",
            "35     5037\n",
            "36     4238\n",
            "37     4586\n",
            "38     5048\n",
            "39     2305\n",
            "40     1837\n",
            "41     7659\n",
            "42     5213\n",
            "43     5227\n",
            "44     1974\n",
            "45     4953\n",
            "46      810\n",
            "47     5585\n",
            "48     1901\n",
            "49    11755\n",
            "50     6119\n",
            "51     2118\n",
            "52     2872\n",
            "53     4884\n",
            "54     2848\n",
            "55     2429\n",
            "56     3161\n",
            "57     4736\n",
            "58     3168\n",
            "Name: count_of_311_requests, dtype: int64]]\n"
          ],
          "name": "stdout"
        }
      ]
    },
    {
      "cell_type": "code",
      "metadata": {
        "id": "kRh9AlkxkHQq",
        "colab_type": "code",
        "outputId": "a6ae010b-29bb-4c09-c48b-19e4e8115d46",
        "colab": {
          "base_uri": "https://localhost:8080/",
          "height": 404
        }
      },
      "source": [
        "# save the lists of data as one big list of lists, \"data_per_cd\"\n",
        "data_per_cd = [noise_cds, heatwater_cds, other_cds]\n",
        "\n",
        "# define the color to be used for the markers for each data subset group\n",
        "colors = [\"red\", \"green\", \"blue\"]\n",
        "\n",
        "# define the labels to be used for the data subset group\n",
        "groups = [\"Noise - Residential\", \"Heat/Hot Water\", \"Other\"]\n",
        "\n",
        "plt.figure(figsize=(15,6))\n",
        "\n",
        "# create a for loop that adds a scatterplot to the figure for each data subset group\n",
        "for data, color, group in zip(data_per_cd, colors, groups): \n",
        "  x, y = data\n",
        "  plt.scatter(x, y, alpha=0.8, c=color, s=50, label=group)\n",
        "\n",
        "plt.title('311 Requests vs. Community District Population')\n",
        "plt.xlabel('Population in Community District (Thousands)')\n",
        "plt.ylabel('# of 311 Requests in Community District')\n",
        "\n",
        "# add legend at specified location\n",
        "# loc=1 top right\n",
        "# loc=2 top left\n",
        "# loc=3 bottom left\n",
        "# loc=4 bottom right\n",
        "plt.legend(loc=2)\n",
        "\n",
        "plt.show()"
      ],
      "execution_count": 17,
      "outputs": [
        {
          "output_type": "display_data",
          "data": {
            "image/png": "[encoded data removed]",
            "text/plain": [
              "<Figure size 1080x432 with 1 Axes>"
            ]
          },
          "metadata": {
            "tags": []
          }
        }
      ]
    },
    {
      "cell_type": "markdown",
      "metadata": {
        "id": "cEpkaB9wYOw8",
        "colab_type": "text"
      },
      "source": [
        "Does it seem like there's a positive correlation between population and noise complaints or population and heat/water complaints? What's a possible explanation for the relationship or lack of relationship?"
      ]
    },
    {
      "cell_type": "markdown",
      "metadata": {
        "id": "42R2-SOjkQwG",
        "colab_type": "text"
      },
      "source": [
        "There does not seem to be a positive correlation between population and noise complaints. Similarly, there does not seem to be a positive correlation between population and heat/hot water complaints. When we take a look at the scatterplot for both of these relationships, we see that as the population in the community district increases, the number of 311 requests/complaints in the community district increases but then decreases. This lack of relationship may be because other factors may be mitigating the relationship between the population and the types of complaints (in this case noise and heat/water complaints). For example, even if the population in some community districts may be higher, and we would expect a higher complaint for noise, perhaps most of the population consists of non-English speakers or immigrants who are not aware of 311 yet, leading to the discrepancy we see where the number of complaints rises and decreases as the population rises."
      ]
    }
  ]
}