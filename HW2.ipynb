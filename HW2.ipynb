{
  "nbformat": 4,
  "nbformat_minor": 0,
  "metadata": {
    "colab": {
      "name": "HW2.ipynb",
      "provenance": [],
      "include_colab_link": true
    },
    "kernelspec": {
      "name": "python3",
      "display_name": "Python 3"
    }
  },
  "cells": [
    {
      "cell_type": "markdown",
      "metadata": {
        "id": "view-in-github",
        "colab_type": "text"
      },
      "source": [
        "<a href=\"https://colab.research.google.com/github/mw1849/nyu-python-public-policy/blob/master/HW2.ipynb\" target=\"_parent\"><img src=\"https://colab.research.google.com/assets/colab-badge.svg\" alt=\"Open In Colab\"/></a>"
      ]
    },
    {
      "cell_type": "code",
      "metadata": {
        "id": "KYA4V2YYByhf",
        "colab_type": "code",
        "colab": {}
      },
      "source": [
        "import pandas as pd\n",
        "from google.colab import drive"
      ],
      "execution_count": 0,
      "outputs": []
    },
    {
      "cell_type": "code",
      "metadata": {
        "id": "vZxsKK4eQJ3K",
        "colab_type": "code",
        "outputId": "ee9dd72e-c80e-4c6a-c6b1-c12121d5c436",
        "colab": {
          "base_uri": "https://localhost:8080/",
          "height": 122
        }
      },
      "source": [
        "drive.mount('/content/drive')\n"
      ],
      "execution_count": 0,
      "outputs": [
        {
          "output_type": "stream",
          "text": [
            "Go to this URL in a browser: https://accounts.google.com/o/oauth2/auth?client_id=947318989803-6bn6qk8qdgf4n4g3pfee6491hc0brc4i.apps.googleusercontent.com&redirect_uri=urn%3Aietf%3Awg%3Aoauth%3A2.0%3Aoob&scope=email%20https%3A%2F%2Fwww.googleapis.com%2Fauth%2Fdocs.test%20https%3A%2F%2Fwww.googleapis.com%2Fauth%2Fdrive%20https%3A%2F%2Fwww.googleapis.com%2Fauth%2Fdrive.photos.readonly%20https%3A%2F%2Fwww.googleapis.com%2Fauth%2Fpeopleapi.readonly&response_type=code\n",
            "\n",
            "Enter your authorization code:\n",
            "··········\n",
            "Mounted at /content/drive\n"
          ],
          "name": "stdout"
        }
      ]
    },
    {
      "cell_type": "code",
      "metadata": {
        "id": "HxYFb9ySRMfC",
        "colab_type": "code",
        "outputId": "eb437580-eb66-4658-8412-44e2c2a56713",
        "colab": {
          "base_uri": "https://localhost:8080/",
          "height": 51
        }
      },
      "source": [
        "df = pd.read_csv('/content/drive/My Drive/Data for Python/cleaned_311_data.csv', header='infer')"
      ],
      "execution_count": 0,
      "outputs": [
        {
          "output_type": "stream",
          "text": [
            "/usr/local/lib/python3.6/dist-packages/IPython/core/interactiveshell.py:2718: DtypeWarning: Columns (9,18,21,32,35) have mixed types. Specify dtype option on import or set low_memory=False.\n",
            "  interactivity=interactivity, compiler=compiler, result=result)\n"
          ],
          "name": "stderr"
        }
      ]
    },
    {
      "cell_type": "code",
      "metadata": {
        "id": "HTPNAhY6S8md",
        "colab_type": "code",
        "outputId": "7514c069-91fa-4631-d5d0-f1bfc0e1d4c5",
        "colab": {
          "base_uri": "https://localhost:8080/",
          "height": 204
        }
      },
      "source": [
        "df.groupby('open_data_channel_type').size().nlargest().reset_index(name='count')"
      ],
      "execution_count": 0,
      "outputs": [
        {
          "output_type": "execute_result",
          "data": {
            "text/html": [
              "<div>\n",
              "<style scoped>\n",
              "    .dataframe tbody tr th:only-of-type {\n",
              "        vertical-align: middle;\n",
              "    }\n",
              "\n",
              "    .dataframe tbody tr th {\n",
              "        vertical-align: top;\n",
              "    }\n",
              "\n",
              "    .dataframe thead th {\n",
              "        text-align: right;\n",
              "    }\n",
              "</style>\n",
              "<table border=\"1\" class=\"dataframe\">\n",
              "  <thead>\n",
              "    <tr style=\"text-align: right;\">\n",
              "      <th></th>\n",
              "      <th>open_data_channel_type</th>\n",
              "      <th>count</th>\n",
              "    </tr>\n",
              "  </thead>\n",
              "  <tbody>\n",
              "    <tr>\n",
              "      <th>0</th>\n",
              "      <td>PHONE</td>\n",
              "      <td>1463204</td>\n",
              "    </tr>\n",
              "    <tr>\n",
              "      <th>1</th>\n",
              "      <td>ONLINE</td>\n",
              "      <td>589865</td>\n",
              "    </tr>\n",
              "    <tr>\n",
              "      <th>2</th>\n",
              "      <td>UNKNOWN</td>\n",
              "      <td>417916</td>\n",
              "    </tr>\n",
              "    <tr>\n",
              "      <th>3</th>\n",
              "      <td>MOBILE</td>\n",
              "      <td>368759</td>\n",
              "    </tr>\n",
              "    <tr>\n",
              "      <th>4</th>\n",
              "      <td>OTHER</td>\n",
              "      <td>19267</td>\n",
              "    </tr>\n",
              "  </tbody>\n",
              "</table>\n",
              "</div>"
            ],
            "text/plain": [
              "  open_data_channel_type    count\n",
              "0                  PHONE  1463204\n",
              "1                 ONLINE   589865\n",
              "2                UNKNOWN   417916\n",
              "3                 MOBILE   368759\n",
              "4                  OTHER    19267"
            ]
          },
          "metadata": {
            "tags": []
          },
          "execution_count": 4
        }
      ]
    },
    {
      "cell_type": "markdown",
      "metadata": {
        "id": "36R0hsvEtRHP",
        "colab_type": "text"
      },
      "source": [
        "Q1. Most people use the phone to submit their complaints to 311. "
      ]
    },
    {
      "cell_type": "code",
      "metadata": {
        "id": "a6pr2vm6URN5",
        "colab_type": "code",
        "colab": {}
      },
      "source": [
        "sub_method = df.groupby(['open_data_channel_type', 'complaint_type']).size().reset_index(name='count')"
      ],
      "execution_count": 0,
      "outputs": []
    },
    {
      "cell_type": "code",
      "metadata": {
        "id": "bxgb9wHcVC1U",
        "colab_type": "code",
        "outputId": "c40e0efa-c8d5-476b-f893-e8fc2abbd346",
        "colab": {
          "base_uri": "https://localhost:8080/",
          "height": 419
        }
      },
      "source": [
        "sub_method.sort_values(['complaint_type'], ascending=[True])"
      ],
      "execution_count": 0,
      "outputs": [
        {
          "output_type": "execute_result",
          "data": {
            "text/html": [
              "<div>\n",
              "<style scoped>\n",
              "    .dataframe tbody tr th:only-of-type {\n",
              "        vertical-align: middle;\n",
              "    }\n",
              "\n",
              "    .dataframe tbody tr th {\n",
              "        vertical-align: top;\n",
              "    }\n",
              "\n",
              "    .dataframe thead th {\n",
              "        text-align: right;\n",
              "    }\n",
              "</style>\n",
              "<table border=\"1\" class=\"dataframe\">\n",
              "  <thead>\n",
              "    <tr style=\"text-align: right;\">\n",
              "      <th></th>\n",
              "      <th>open_data_channel_type</th>\n",
              "      <th>complaint_type</th>\n",
              "      <th>count</th>\n",
              "    </tr>\n",
              "  </thead>\n",
              "  <tbody>\n",
              "    <tr>\n",
              "      <th>223</th>\n",
              "      <td>PHONE</td>\n",
              "      <td>APPLIANCE</td>\n",
              "      <td>12002</td>\n",
              "    </tr>\n",
              "    <tr>\n",
              "      <th>40</th>\n",
              "      <td>ONLINE</td>\n",
              "      <td>APPLIANCE</td>\n",
              "      <td>2627</td>\n",
              "    </tr>\n",
              "    <tr>\n",
              "      <th>0</th>\n",
              "      <td>MOBILE</td>\n",
              "      <td>Abandoned Vehicle</td>\n",
              "      <td>2484</td>\n",
              "    </tr>\n",
              "    <tr>\n",
              "      <th>224</th>\n",
              "      <td>PHONE</td>\n",
              "      <td>Abandoned Vehicle</td>\n",
              "      <td>5069</td>\n",
              "    </tr>\n",
              "    <tr>\n",
              "      <th>41</th>\n",
              "      <td>ONLINE</td>\n",
              "      <td>Abandoned Vehicle</td>\n",
              "      <td>1891</td>\n",
              "    </tr>\n",
              "    <tr>\n",
              "      <th>...</th>\n",
              "      <td>...</td>\n",
              "      <td>...</td>\n",
              "      <td>...</td>\n",
              "    </tr>\n",
              "    <tr>\n",
              "      <th>194</th>\n",
              "      <td>ONLINE</td>\n",
              "      <td>Window Guard</td>\n",
              "      <td>17</td>\n",
              "    </tr>\n",
              "    <tr>\n",
              "      <th>413</th>\n",
              "      <td>PHONE</td>\n",
              "      <td>Window Guard</td>\n",
              "      <td>13</td>\n",
              "    </tr>\n",
              "    <tr>\n",
              "      <th>518</th>\n",
              "      <td>UNKNOWN</td>\n",
              "      <td>Window Guard</td>\n",
              "      <td>1</td>\n",
              "    </tr>\n",
              "    <tr>\n",
              "      <th>195</th>\n",
              "      <td>ONLINE</td>\n",
              "      <td>X-Ray Machine/Equipment</td>\n",
              "      <td>5</td>\n",
              "    </tr>\n",
              "    <tr>\n",
              "      <th>414</th>\n",
              "      <td>PHONE</td>\n",
              "      <td>X-Ray Machine/Equipment</td>\n",
              "      <td>4</td>\n",
              "    </tr>\n",
              "  </tbody>\n",
              "</table>\n",
              "<p>519 rows × 3 columns</p>\n",
              "</div>"
            ],
            "text/plain": [
              "    open_data_channel_type           complaint_type  count\n",
              "223                  PHONE                APPLIANCE  12002\n",
              "40                  ONLINE                APPLIANCE   2627\n",
              "0                   MOBILE        Abandoned Vehicle   2484\n",
              "224                  PHONE        Abandoned Vehicle   5069\n",
              "41                  ONLINE        Abandoned Vehicle   1891\n",
              "..                     ...                      ...    ...\n",
              "194                 ONLINE             Window Guard     17\n",
              "413                  PHONE             Window Guard     13\n",
              "518                UNKNOWN             Window Guard      1\n",
              "195                 ONLINE  X-Ray Machine/Equipment      5\n",
              "414                  PHONE  X-Ray Machine/Equipment      4\n",
              "\n",
              "[519 rows x 3 columns]"
            ]
          },
          "metadata": {
            "tags": []
          },
          "execution_count": 6
        }
      ]
    },
    {
      "cell_type": "markdown",
      "metadata": {
        "id": "8s0R4kwTaFJ0",
        "colab_type": "text"
      },
      "source": [
        "Looking at the data, it seems that some complaints are made more frequently depending on when and where people would usually make the complaints. For example, when the complaint is for an abandoned vehicle, people usually submit the complaint by phone/mobile (5069 complaints) because they may usually be outside when making the complaint. However, for complaints about X-Ray Machine/Equipment, this would usually be done inside, with access to computers, so complaints would be made most often through an website (online) submission."
      ]
    },
    {
      "cell_type": "code",
      "metadata": {
        "id": "Gyi94oonXJab",
        "colab_type": "code",
        "outputId": "48ad9707-04f6-4994-d0fe-f0dfebb864d8",
        "colab": {
          "base_uri": "https://localhost:8080/",
          "height": 419
        }
      },
      "source": [
        "sub_method.sort_values(['count','complaint_type'], ascending=[False,True]).drop_duplicates(['complaint_type'])"
      ],
      "execution_count": 0,
      "outputs": [
        {
          "output_type": "execute_result",
          "data": {
            "text/html": [
              "<div>\n",
              "<style scoped>\n",
              "    .dataframe tbody tr th:only-of-type {\n",
              "        vertical-align: middle;\n",
              "    }\n",
              "\n",
              "    .dataframe tbody tr th {\n",
              "        vertical-align: top;\n",
              "    }\n",
              "\n",
              "    .dataframe thead th {\n",
              "        text-align: right;\n",
              "    }\n",
              "</style>\n",
              "<table border=\"1\" class=\"dataframe\">\n",
              "  <thead>\n",
              "    <tr style=\"text-align: right;\">\n",
              "      <th></th>\n",
              "      <th>open_data_channel_type</th>\n",
              "      <th>complaint_type</th>\n",
              "      <th>count</th>\n",
              "    </tr>\n",
              "  </thead>\n",
              "  <tbody>\n",
              "    <tr>\n",
              "      <th>367</th>\n",
              "      <td>PHONE</td>\n",
              "      <td>Request Large Bulky Item Collection</td>\n",
              "      <td>177175</td>\n",
              "    </tr>\n",
              "    <tr>\n",
              "      <th>303</th>\n",
              "      <td>PHONE</td>\n",
              "      <td>HEAT/HOT WATER</td>\n",
              "      <td>128002</td>\n",
              "    </tr>\n",
              "    <tr>\n",
              "      <th>343</th>\n",
              "      <td>PHONE</td>\n",
              "      <td>Noise - Residential</td>\n",
              "      <td>95407</td>\n",
              "    </tr>\n",
              "    <tr>\n",
              "      <th>244</th>\n",
              "      <td>PHONE</td>\n",
              "      <td>Blocked Driveway</td>\n",
              "      <td>95206</td>\n",
              "    </tr>\n",
              "    <tr>\n",
              "      <th>501</th>\n",
              "      <td>UNKNOWN</td>\n",
              "      <td>Street Light Condition</td>\n",
              "      <td>77755</td>\n",
              "    </tr>\n",
              "    <tr>\n",
              "      <th>...</th>\n",
              "      <td>...</td>\n",
              "      <td>...</td>\n",
              "      <td>...</td>\n",
              "    </tr>\n",
              "    <tr>\n",
              "      <th>245</th>\n",
              "      <td>PHONE</td>\n",
              "      <td>Bottled Water</td>\n",
              "      <td>5</td>\n",
              "    </tr>\n",
              "    <tr>\n",
              "      <th>83</th>\n",
              "      <td>ONLINE</td>\n",
              "      <td>Fire Alarm - Reinspection</td>\n",
              "      <td>5</td>\n",
              "    </tr>\n",
              "    <tr>\n",
              "      <th>454</th>\n",
              "      <td>UNKNOWN</td>\n",
              "      <td>Forensic Engineering</td>\n",
              "      <td>5</td>\n",
              "    </tr>\n",
              "    <tr>\n",
              "      <th>152</th>\n",
              "      <td>ONLINE</td>\n",
              "      <td>Rangehood</td>\n",
              "      <td>5</td>\n",
              "    </tr>\n",
              "    <tr>\n",
              "      <th>195</th>\n",
              "      <td>ONLINE</td>\n",
              "      <td>X-Ray Machine/Equipment</td>\n",
              "      <td>5</td>\n",
              "    </tr>\n",
              "  </tbody>\n",
              "</table>\n",
              "<p>229 rows × 3 columns</p>\n",
              "</div>"
            ],
            "text/plain": [
              "    open_data_channel_type                       complaint_type   count\n",
              "367                  PHONE  Request Large Bulky Item Collection  177175\n",
              "303                  PHONE                       HEAT/HOT WATER  128002\n",
              "343                  PHONE                  Noise - Residential   95407\n",
              "244                  PHONE                     Blocked Driveway   95206\n",
              "501                UNKNOWN               Street Light Condition   77755\n",
              "..                     ...                                  ...     ...\n",
              "245                  PHONE                        Bottled Water       5\n",
              "83                  ONLINE            Fire Alarm - Reinspection       5\n",
              "454                UNKNOWN                 Forensic Engineering       5\n",
              "152                 ONLINE                            Rangehood       5\n",
              "195                 ONLINE              X-Ray Machine/Equipment       5\n",
              "\n",
              "[229 rows x 3 columns]"
            ]
          },
          "metadata": {
            "tags": []
          },
          "execution_count": 7
        }
      ]
    }
  ]
}