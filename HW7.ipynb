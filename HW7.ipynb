{
  "nbformat": 4,
  "nbformat_minor": 0,
  "metadata": {
    "colab": {
      "name": "HW7.ipynb",
      "provenance": [],
      "include_colab_link": true
    },
    "kernelspec": {
      "name": "python3",
      "display_name": "Python 3"
    }
  },
  "cells": [
    {
      "cell_type": "markdown",
      "metadata": {
        "id": "view-in-github",
        "colab_type": "text"
      },
      "source": [
        "<a href=\"https://colab.research.google.com/github/mw1849/nyu-python-public-policy/blob/master/HW7.ipynb\" target=\"_parent\"><img src=\"https://colab.research.google.com/assets/colab-badge.svg\" alt=\"Open In Colab\"/></a>"
      ]
    },
    {
      "cell_type": "code",
      "metadata": {
        "id": "BJl8wSjwx344",
        "colab_type": "code",
        "colab": {}
      },
      "source": [
        "import pandas as pd\n",
        "from google.colab import drive\n",
        "import numpy as np\n",
        "import matplotlib.pyplot as plt\n",
        "import statsmodels.api as sm"
      ],
      "execution_count": 0,
      "outputs": []
    },
    {
      "cell_type": "code",
      "metadata": {
        "id": "xO5nm_gOwkyY",
        "colab_type": "code",
        "outputId": "19d6a383-89be-4cde-9d4f-6ae8bbba51af",
        "colab": {
          "base_uri": "https://localhost:8080/",
          "height": 122
        }
      },
      "source": [
        "drive.mount('/content/drive')"
      ],
      "execution_count": 0,
      "outputs": [
        {
          "output_type": "stream",
          "text": [
            "Go to this URL in a browser: https://accounts.google.com/o/oauth2/auth?client_id=947318989803-6bn6qk8qdgf4n4g3pfee6491hc0brc4i.apps.googleusercontent.com&redirect_uri=urn%3aietf%3awg%3aoauth%3a2.0%3aoob&response_type=code&scope=email%20https%3a%2f%2fwww.googleapis.com%2fauth%2fdocs.test%20https%3a%2f%2fwww.googleapis.com%2fauth%2fdrive%20https%3a%2f%2fwww.googleapis.com%2fauth%2fdrive.photos.readonly%20https%3a%2f%2fwww.googleapis.com%2fauth%2fpeopleapi.readonly\n",
            "\n",
            "Enter your authorization code:\n",
            "··········\n",
            "Mounted at /content/drive\n"
          ],
          "name": "stdout"
        }
      ]
    },
    {
      "cell_type": "markdown",
      "metadata": {
        "id": "HYzyImOXx4v0",
        "colab_type": "text"
      },
      "source": [
        "**STEP ONE:** Select an indicator from the Community District Profiles data that you want to analyze for this assignment. Create a dataframe that only captures the borocd and selected indicator column."
      ]
    },
    {
      "cell_type": "code",
      "metadata": {
        "id": "x5HM1w4bwrnr",
        "colab_type": "code",
        "outputId": "a06e2f44-25ad-477c-eb7d-381d18755a03",
        "colab": {
          "base_uri": "https://localhost:8080/",
          "height": 51
        }
      },
      "source": [
        "#import cleaned 311 complaints file\n",
        "df = pd.read_csv('/content/drive/My Drive/Data for Python/cleaned_311_data_revised.csv', header='infer')"
      ],
      "execution_count": 0,
      "outputs": [
        {
          "output_type": "stream",
          "text": [
            "/usr/local/lib/python3.6/dist-packages/IPython/core/interactiveshell.py:2718: DtypeWarning: Columns (10,19,20,22,33,36,37,38,39) have mixed types. Specify dtype option on import or set low_memory=False.\n",
            "  interactivity=interactivity, compiler=compiler, result=result)\n"
          ],
          "name": "stderr"
        }
      ]
    },
    {
      "cell_type": "code",
      "metadata": {
        "id": "wtQnJlMryLHU",
        "colab_type": "code",
        "colab": {}
      },
      "source": [
        "#import raw \"indicators\" dataset\n",
        "df2 = pd.read_csv('https://planninglabs.carto.com/api/v2/sql?format=csv&q=SELECT%20cartodb_id,the_geom,the_geom_webmercator,acres,acs_tooltip,acs_tooltip_2,acs_tooltip_3,area_sqmi,borocd,cb_email,cb_website,cd_full_title,cd_short_title,cd_son_fy2018,cd_tot_bldgs,cd_tot_resunits,count_hosp_clinic,count_libraries,count_parks,count_public_schools,crime_count,crime_count_boro,crime_count_nyc,crime_per_1000,crime_per_1000_boro,crime_per_1000_nyc,female_10_14,female_15_19,female_20_24,female_25_29,female_30_34,female_35_39,female_40_44,female_45_49,female_5_9,female_50_54,female_55_59,female_60_64,female_65_69,female_70_74,female_75_79,female_80_84,female_85_over,female_under_5,fp_100_area,fp_100_bldg,fp_100_cost_burden,fp_100_cost_burden_value,fp_100_mhhi,fp_100_mortg_value,fp_100_openspace,fp_100_ownerocc,fp_100_ownerocc_value,fp_100_permortg,fp_100_pop,fp_100_rent_burden,fp_100_rent_burden_value,fp_100_resunits,fp_500_area,fp_500_bldg,fp_500_cost_burden,fp_500_cost_burden_value,fp_500_mhhi,fp_500_mortg_value,fp_500_openspace,fp_500_ownerocc,fp_500_ownerocc_value,fp_500_permortg,fp_500_pop,fp_500_rent_burden,fp_500_rent_burden_value,fp_500_resunits,lep_rate,lep_rate_boro,lep_rate_nyc,lot_area_commercial_office,lot_area_industrial_manufacturing,lot_area_mixed_use,lot_area_open_space,lot_area_other_no_data,lot_area_parking,lot_area_public_facility_institution,lot_area_res_1_2_family_bldg,lot_area_res_multifamily_elevator,lot_area_res_multifamily_walkup,lot_area_transportation_utility,lot_area_vacant,lots_commercial_office,lots_industrial_manufacturing,lots_mixed_use,lots_open_space,lots_other_no_data,lots_parking,lots_public_facility_institution,lots_res_1_2_family_bldg,lots_res_multifamily_elevator,lots_res_multifamily_walkup,lots_total,lots_transportation_utility,lots_vacant,male_10_14,male_15_19,male_20_24,male_25_29,male_30_34,male_35_39,male_40_44,male_45_49,male_5_9,male_50_54,male_55_59,male_60_64,male_65_69,male_70_74,male_75_79,male_80_84,male_85_over,male_under_5,mean_commute,mean_commute_boro,mean_commute_nyc,moe_bach_deg,moe_bach_deg_boro,moe_bach_deg_nyc,moe_foreign_born,moe_hh_rent_burd,moe_hh_rent_burd_boro,moe_hh_rent_burd_nyc,moe_lep_rate,moe_lep_rate_boro,moe_lep_rate_nyc,moe_mean_commute,moe_mean_commute_boro,moe_mean_commute_nyc,moe_over65_rate,moe_over65_rate_boro,moe_over65_rate_nyc,moe_poverty_rate,moe_under18_rate,moe_under18_rate_boro,moe_under18_rate_nyc,moe_unemnployment,moe_unemployment_boro,moe_unemployment_cd,neighborhoods,over65_rate,over65_rate_boro,over65_rate_nyc,pct_asian_nh,pct_bach_deg,pct_bach_deg_boro,pct_bach_deg_nyc,pct_black_nh,pct_clean_strts,pct_clean_strts_boro,pct_clean_strts_nyc,pct_foreign_born,pct_hh_rent_burd,pct_hh_rent_burd_boro,pct_hh_rent_burd_nyc,pct_hispanic,pct_other_nh,pct_served_parks,pct_white_nh,pop_2000,pop_2010,pop_acs,pop_change_00_10,poverty_rate,poverty_rate_boro,poverty_rate_nyc,puma,shared_puma,shared_puma_cd,son_issue_1,son_issue_2,son_issue_3,total_lot_area,under18_rate,under18_rate_boro,under18_rate_nyc,unemployment_boro,unemployment_cd,unemployment_nyc%20FROM%20community_district_profiles&filename=indicators.csv', header='infer')"
      ],
      "execution_count": 0,
      "outputs": []
    },
    {
      "cell_type": "code",
      "metadata": {
        "id": "fDMTvCYnx32c",
        "colab_type": "code",
        "colab": {}
      },
      "source": [
        "#manipulate dataset to only include 'borocd' and 'pct_hh_rent_burd'\n",
        "indicators = df2[['borocd', 'pct_hh_rent_burd']]"
      ],
      "execution_count": 0,
      "outputs": []
    },
    {
      "cell_type": "code",
      "metadata": {
        "id": "kVroYX423EmK",
        "colab_type": "code",
        "outputId": "1eb81b30-f469-4f36-d057-4dd4fb46a6bd",
        "colab": {
          "base_uri": "https://localhost:8080/",
          "height": 204
        }
      },
      "source": [
        "#check to see if code above worked\n",
        "indicators.head()"
      ],
      "execution_count": 0,
      "outputs": [
        {
          "output_type": "execute_result",
          "data": {
            "text/html": [
              "<div>\n",
              "<style scoped>\n",
              "    .dataframe tbody tr th:only-of-type {\n",
              "        vertical-align: middle;\n",
              "    }\n",
              "\n",
              "    .dataframe tbody tr th {\n",
              "        vertical-align: top;\n",
              "    }\n",
              "\n",
              "    .dataframe thead th {\n",
              "        text-align: right;\n",
              "    }\n",
              "</style>\n",
              "<table border=\"1\" class=\"dataframe\">\n",
              "  <thead>\n",
              "    <tr style=\"text-align: right;\">\n",
              "      <th></th>\n",
              "      <th>borocd</th>\n",
              "      <th>pct_hh_rent_burd</th>\n",
              "    </tr>\n",
              "  </thead>\n",
              "  <tbody>\n",
              "    <tr>\n",
              "      <th>0</th>\n",
              "      <td>101</td>\n",
              "      <td>31.0</td>\n",
              "    </tr>\n",
              "    <tr>\n",
              "      <th>1</th>\n",
              "      <td>102</td>\n",
              "      <td>31.0</td>\n",
              "    </tr>\n",
              "    <tr>\n",
              "      <th>2</th>\n",
              "      <td>103</td>\n",
              "      <td>38.5</td>\n",
              "    </tr>\n",
              "    <tr>\n",
              "      <th>3</th>\n",
              "      <td>104</td>\n",
              "      <td>33.8</td>\n",
              "    </tr>\n",
              "    <tr>\n",
              "      <th>4</th>\n",
              "      <td>105</td>\n",
              "      <td>33.8</td>\n",
              "    </tr>\n",
              "  </tbody>\n",
              "</table>\n",
              "</div>"
            ],
            "text/plain": [
              "   borocd  pct_hh_rent_burd\n",
              "0     101              31.0\n",
              "1     102              31.0\n",
              "2     103              38.5\n",
              "3     104              33.8\n",
              "4     105              33.8"
            ]
          },
          "metadata": {
            "tags": []
          },
          "execution_count": 7
        }
      ]
    },
    {
      "cell_type": "markdown",
      "metadata": {
        "id": "bt2Ig4TQ3p5_",
        "colab_type": "text"
      },
      "source": [
        "**STEP TWO:** Review the complaint types in the 311 complaint data. Choose the complaint type(s) you hypothesize should correlate with the indicator you chose in Step 2. Create a new dataframe that only captures the 311 complaints you want to analyze."
      ]
    },
    {
      "cell_type": "code",
      "metadata": {
        "id": "HxgILB044I_f",
        "colab_type": "code",
        "outputId": "b5298157-bc74-49f1-8eaa-6c34acef1717",
        "colab": {
          "base_uri": "https://localhost:8080/",
          "height": 1000
        }
      },
      "source": [
        "#review complaint types in the 311 complaint data\n",
        "set(df['complaint_type'])"
      ],
      "execution_count": 0,
      "outputs": [
        {
          "output_type": "execute_result",
          "data": {
            "text/plain": [
              "{'APPLIANCE',\n",
              " 'Abandoned Vehicle',\n",
              " 'Advocate - Lien',\n",
              " 'Advocate - Other',\n",
              " 'Advocate - RPIE',\n",
              " 'Advocate-Co-opCondo Abatement',\n",
              " 'Advocate-Commercial Exemptions',\n",
              " 'Advocate-Personal Exemptions',\n",
              " 'Advocate-Prop Refunds/Credits',\n",
              " 'Advocate-Property Value',\n",
              " 'Air Quality',\n",
              " \"Alzheimer's Care\",\n",
              " 'Animal Abuse',\n",
              " 'Animal Facility - No Permit',\n",
              " 'Animal in a Park',\n",
              " 'Animal-Abuse',\n",
              " 'Asbestos',\n",
              " 'BEST/Site Safety',\n",
              " 'Beach/Pool/Sauna Complaint',\n",
              " 'Benefit Card Replacement',\n",
              " 'Bereavement Support Group',\n",
              " 'Bike Rack Condition',\n",
              " 'Bike/Roller/Skate Chronic',\n",
              " 'Blocked Driveway',\n",
              " 'Boilers',\n",
              " 'Borough Office',\n",
              " 'Bottled Water',\n",
              " 'Bridge Condition',\n",
              " 'Broken Parking Meter',\n",
              " 'Building Marshals office',\n",
              " 'Building/Use',\n",
              " 'Bus Stop Shelter Complaint',\n",
              " 'Bus Stop Shelter Placement',\n",
              " 'Calorie Labeling',\n",
              " 'Case Management Agency Complaint',\n",
              " 'Collection Truck Noise',\n",
              " 'Comments',\n",
              " 'Construction Safety Enforcement',\n",
              " 'Consumer Complaint',\n",
              " 'Cooling Tower',\n",
              " 'Cranes and Derricks',\n",
              " 'Curb Condition',\n",
              " 'DCA / DOH New License Application Request',\n",
              " 'DEP Street Condition',\n",
              " 'DOF Parking - DMV Clearance',\n",
              " 'DOF Parking - Payment Issue',\n",
              " 'DOF Parking - Request Copy',\n",
              " 'DOF Parking - Request Status',\n",
              " 'DOF Parking - Tax Exemption',\n",
              " 'DOF Property - Owner Issue',\n",
              " 'DOF Property - Payment Issue',\n",
              " 'DOF Property - Property Value',\n",
              " 'DOF Property - RPIE Issue',\n",
              " 'DOF Property - Reduction Issue',\n",
              " 'DOF Property - Request Copy',\n",
              " 'DOF Property - Update Account',\n",
              " 'DOOR/WINDOW',\n",
              " 'DPR Internal',\n",
              " 'DRIE',\n",
              " 'Damaged Tree',\n",
              " 'Day Care',\n",
              " 'Dead/Dying Tree',\n",
              " 'Derelict Bicycle',\n",
              " 'Derelict Vehicle',\n",
              " 'Derelict Vehicles',\n",
              " 'Dirty Conditions',\n",
              " 'Disorderly Youth',\n",
              " 'Dispatched Taxi Complaint',\n",
              " 'Drinking',\n",
              " 'Drinking Water',\n",
              " 'Drug Activity',\n",
              " 'ELECTRIC',\n",
              " 'ELEVATOR',\n",
              " 'Elder Abuse',\n",
              " 'Electrical',\n",
              " 'Electronics Waste',\n",
              " 'Electronics Waste Appointment',\n",
              " 'Elevator',\n",
              " 'Emergency Response Team (ERT)',\n",
              " 'Executive Inspections',\n",
              " 'FATF',\n",
              " 'FHV Licensee Complaint',\n",
              " 'FLOORING/STAIRS',\n",
              " 'Facades',\n",
              " 'Ferry Complaint',\n",
              " 'Ferry Inquiry',\n",
              " 'Ferry Permit',\n",
              " 'Fire Alarm - New System',\n",
              " 'Fire Alarm - Reinspection',\n",
              " 'Foam Ban Enforcement',\n",
              " 'Food Establishment',\n",
              " 'Food Poisoning',\n",
              " 'For Hire Vehicle Complaint',\n",
              " 'For Hire Vehicle Report',\n",
              " 'Forensic Engineering',\n",
              " 'Forms',\n",
              " 'Found Property',\n",
              " 'GENERAL',\n",
              " 'General',\n",
              " 'General Construction/Plumbing',\n",
              " 'Graffiti',\n",
              " 'Green Taxi Complaint',\n",
              " 'Green Taxi Report',\n",
              " 'HEAT/HOT WATER',\n",
              " 'HPD Literature Request',\n",
              " 'Harboring Bees/Wasps',\n",
              " 'Hazardous Materials',\n",
              " 'Highway Condition',\n",
              " 'Highway Sign - Damaged',\n",
              " 'Highway Sign - Dangling',\n",
              " 'Highway Sign - Missing',\n",
              " 'Home Care Provider Complaint',\n",
              " 'Home Delivered Meal - Missed Delivery',\n",
              " 'Home Delivered Meal Complaint',\n",
              " 'Homeless Encampment',\n",
              " 'Homeless Person Assistance',\n",
              " 'Housing - Low Income Senior',\n",
              " 'Housing Options',\n",
              " 'Illegal Animal Kept as Pet',\n",
              " 'Illegal Animal Sold',\n",
              " 'Illegal Fireworks',\n",
              " 'Illegal Parking',\n",
              " 'Illegal Tree Damage',\n",
              " 'Indoor Air Quality',\n",
              " 'Indoor Sewage',\n",
              " 'Industrial Waste',\n",
              " 'Investigations and Discipline (IAD)',\n",
              " 'Lead',\n",
              " 'Lifeguard',\n",
              " 'LinkNYC',\n",
              " 'Litter Basket / Request',\n",
              " 'Lost Property',\n",
              " 'Maintenance or Facility',\n",
              " 'Miscellaneous Categories',\n",
              " 'Missed Collection',\n",
              " 'Missed Collection (All Materials)',\n",
              " 'Mobile Food Vendor',\n",
              " 'Mold',\n",
              " 'Mosquitoes',\n",
              " 'Municipal Parking Facility',\n",
              " 'New Tree Request',\n",
              " 'Noise',\n",
              " 'Noise - Commercial',\n",
              " 'Noise - Helicopter',\n",
              " 'Noise - House of Worship',\n",
              " 'Noise - Park',\n",
              " 'Noise - Residential',\n",
              " 'Noise - Street/Sidewalk',\n",
              " 'Noise - Vehicle',\n",
              " 'Non-Emergency Police Matter',\n",
              " 'Non-Residential Heat',\n",
              " 'OEM Literature Request',\n",
              " 'OUTSIDE BUILDING',\n",
              " 'Other Enforcement',\n",
              " 'Outside Building',\n",
              " 'Overflowing Litter Baskets',\n",
              " 'Overflowing Recycling Baskets',\n",
              " 'Overgrown Tree/Branches',\n",
              " 'PAINT/PLASTER',\n",
              " 'PLUMBING',\n",
              " 'Panhandling',\n",
              " 'Pet Shop',\n",
              " 'Plant',\n",
              " 'Plumbing',\n",
              " 'Poison Ivy',\n",
              " 'Posting Advertisement',\n",
              " 'Public Payphone Complaint',\n",
              " 'Public Toilet',\n",
              " 'Quality of Life',\n",
              " 'Question',\n",
              " 'Radioactive Material',\n",
              " 'Rangehood',\n",
              " 'Recycling Enforcement',\n",
              " 'Request Large Bulky Item Collection',\n",
              " 'Research Questions',\n",
              " 'Rodent',\n",
              " 'Root/Sewer/Sidewalk Condition',\n",
              " 'SAFETY',\n",
              " 'SCRIE',\n",
              " 'Safety',\n",
              " 'Sanitation Condition',\n",
              " 'Scaffold Safety',\n",
              " 'School Maintenance',\n",
              " 'Senior Center Complaint',\n",
              " 'Sewer',\n",
              " 'Sidewalk Condition',\n",
              " 'Single Occupancy Bathroom',\n",
              " 'Smoking',\n",
              " 'Snow',\n",
              " 'Special Natural Area District (SNAD)',\n",
              " 'Special Operations',\n",
              " 'Special Projects Inspection Team (SPIT)',\n",
              " 'Standing Water',\n",
              " 'Street Condition',\n",
              " 'Street Light Condition',\n",
              " 'Street Sign - Damaged',\n",
              " 'Street Sign - Dangling',\n",
              " 'Street Sign - Missing',\n",
              " 'Sustainability Enforcement',\n",
              " 'Sweeping/Inadequate',\n",
              " 'Sweeping/Missed',\n",
              " 'Tattooing',\n",
              " 'Taxi Complaint',\n",
              " 'Taxi Compliment',\n",
              " 'Taxi Licensee Complaint',\n",
              " 'Taxi Report',\n",
              " 'Taxpayer Advocate Inquiry',\n",
              " 'Traffic',\n",
              " 'Traffic Signal Condition',\n",
              " 'Transportation Provider Complaint',\n",
              " 'Tunnel Condition',\n",
              " 'UNSANITARY CONDITION',\n",
              " 'Unleashed Dog',\n",
              " 'Unlicensed Dog',\n",
              " 'Unsanitary Animal Facility',\n",
              " 'Unsanitary Animal Pvt Property',\n",
              " 'Unsanitary Condition',\n",
              " 'Unsanitary Pigeon Condition',\n",
              " 'Urinating in Public',\n",
              " 'Vacant Lot',\n",
              " 'Vending',\n",
              " 'Violation of Park Rules',\n",
              " 'WATER LEAK',\n",
              " 'Water Conservation',\n",
              " 'Water Quality',\n",
              " 'Water System',\n",
              " 'Window Guard',\n",
              " 'X-Ray Machine/Equipment'}"
            ]
          },
          "metadata": {
            "tags": []
          },
          "execution_count": 8
        }
      ]
    },
    {
      "cell_type": "code",
      "metadata": {
        "id": "4NBmgxMC-BwL",
        "colab_type": "code",
        "colab": {}
      },
      "source": [
        "#I want to choose unsanitary condition but there are two values with unsanitary condition, one all lower case and one all uppercase, so I will make all the values lower case\n",
        "df['complaint_type'] = df['complaint_type'].str.lower()"
      ],
      "execution_count": 0,
      "outputs": []
    },
    {
      "cell_type": "code",
      "metadata": {
        "id": "RxNPGXGQ_Nl7",
        "colab_type": "code",
        "outputId": "c35b22da-534a-486a-c2aa-f2afa51f7e9b",
        "colab": {
          "base_uri": "https://localhost:8080/",
          "height": 1000
        }
      },
      "source": [
        "#Check to see if all complaint types are now lower case\n",
        "set(df['complaint_type'])"
      ],
      "execution_count": 0,
      "outputs": [
        {
          "output_type": "execute_result",
          "data": {
            "text/plain": [
              "{'abandoned vehicle',\n",
              " 'advocate - lien',\n",
              " 'advocate - other',\n",
              " 'advocate - rpie',\n",
              " 'advocate-co-opcondo abatement',\n",
              " 'advocate-commercial exemptions',\n",
              " 'advocate-personal exemptions',\n",
              " 'advocate-prop refunds/credits',\n",
              " 'advocate-property value',\n",
              " 'air quality',\n",
              " \"alzheimer's care\",\n",
              " 'animal abuse',\n",
              " 'animal facility - no permit',\n",
              " 'animal in a park',\n",
              " 'animal-abuse',\n",
              " 'appliance',\n",
              " 'asbestos',\n",
              " 'beach/pool/sauna complaint',\n",
              " 'benefit card replacement',\n",
              " 'bereavement support group',\n",
              " 'best/site safety',\n",
              " 'bike rack condition',\n",
              " 'bike/roller/skate chronic',\n",
              " 'blocked driveway',\n",
              " 'boilers',\n",
              " 'borough office',\n",
              " 'bottled water',\n",
              " 'bridge condition',\n",
              " 'broken parking meter',\n",
              " 'building marshals office',\n",
              " 'building/use',\n",
              " 'bus stop shelter complaint',\n",
              " 'bus stop shelter placement',\n",
              " 'calorie labeling',\n",
              " 'case management agency complaint',\n",
              " 'collection truck noise',\n",
              " 'comments',\n",
              " 'construction safety enforcement',\n",
              " 'consumer complaint',\n",
              " 'cooling tower',\n",
              " 'cranes and derricks',\n",
              " 'curb condition',\n",
              " 'damaged tree',\n",
              " 'day care',\n",
              " 'dca / doh new license application request',\n",
              " 'dead/dying tree',\n",
              " 'dep street condition',\n",
              " 'derelict bicycle',\n",
              " 'derelict vehicle',\n",
              " 'derelict vehicles',\n",
              " 'dirty conditions',\n",
              " 'disorderly youth',\n",
              " 'dispatched taxi complaint',\n",
              " 'dof parking - dmv clearance',\n",
              " 'dof parking - payment issue',\n",
              " 'dof parking - request copy',\n",
              " 'dof parking - request status',\n",
              " 'dof parking - tax exemption',\n",
              " 'dof property - owner issue',\n",
              " 'dof property - payment issue',\n",
              " 'dof property - property value',\n",
              " 'dof property - reduction issue',\n",
              " 'dof property - request copy',\n",
              " 'dof property - rpie issue',\n",
              " 'dof property - update account',\n",
              " 'door/window',\n",
              " 'dpr internal',\n",
              " 'drie',\n",
              " 'drinking',\n",
              " 'drinking water',\n",
              " 'drug activity',\n",
              " 'elder abuse',\n",
              " 'electric',\n",
              " 'electrical',\n",
              " 'electronics waste',\n",
              " 'electronics waste appointment',\n",
              " 'elevator',\n",
              " 'emergency response team (ert)',\n",
              " 'executive inspections',\n",
              " 'facades',\n",
              " 'fatf',\n",
              " 'ferry complaint',\n",
              " 'ferry inquiry',\n",
              " 'ferry permit',\n",
              " 'fhv licensee complaint',\n",
              " 'fire alarm - new system',\n",
              " 'fire alarm - reinspection',\n",
              " 'flooring/stairs',\n",
              " 'foam ban enforcement',\n",
              " 'food establishment',\n",
              " 'food poisoning',\n",
              " 'for hire vehicle complaint',\n",
              " 'for hire vehicle report',\n",
              " 'forensic engineering',\n",
              " 'forms',\n",
              " 'found property',\n",
              " 'general',\n",
              " 'general construction/plumbing',\n",
              " 'graffiti',\n",
              " 'green taxi complaint',\n",
              " 'green taxi report',\n",
              " 'harboring bees/wasps',\n",
              " 'hazardous materials',\n",
              " 'heat/hot water',\n",
              " 'highway condition',\n",
              " 'highway sign - damaged',\n",
              " 'highway sign - dangling',\n",
              " 'highway sign - missing',\n",
              " 'home care provider complaint',\n",
              " 'home delivered meal - missed delivery',\n",
              " 'home delivered meal complaint',\n",
              " 'homeless encampment',\n",
              " 'homeless person assistance',\n",
              " 'housing - low income senior',\n",
              " 'housing options',\n",
              " 'hpd literature request',\n",
              " 'illegal animal kept as pet',\n",
              " 'illegal animal sold',\n",
              " 'illegal fireworks',\n",
              " 'illegal parking',\n",
              " 'illegal tree damage',\n",
              " 'indoor air quality',\n",
              " 'indoor sewage',\n",
              " 'industrial waste',\n",
              " 'investigations and discipline (iad)',\n",
              " 'lead',\n",
              " 'lifeguard',\n",
              " 'linknyc',\n",
              " 'litter basket / request',\n",
              " 'lost property',\n",
              " 'maintenance or facility',\n",
              " 'miscellaneous categories',\n",
              " 'missed collection',\n",
              " 'missed collection (all materials)',\n",
              " 'mobile food vendor',\n",
              " 'mold',\n",
              " 'mosquitoes',\n",
              " 'municipal parking facility',\n",
              " 'new tree request',\n",
              " 'noise',\n",
              " 'noise - commercial',\n",
              " 'noise - helicopter',\n",
              " 'noise - house of worship',\n",
              " 'noise - park',\n",
              " 'noise - residential',\n",
              " 'noise - street/sidewalk',\n",
              " 'noise - vehicle',\n",
              " 'non-emergency police matter',\n",
              " 'non-residential heat',\n",
              " 'oem literature request',\n",
              " 'other enforcement',\n",
              " 'outside building',\n",
              " 'overflowing litter baskets',\n",
              " 'overflowing recycling baskets',\n",
              " 'overgrown tree/branches',\n",
              " 'paint/plaster',\n",
              " 'panhandling',\n",
              " 'pet shop',\n",
              " 'plant',\n",
              " 'plumbing',\n",
              " 'poison ivy',\n",
              " 'posting advertisement',\n",
              " 'public payphone complaint',\n",
              " 'public toilet',\n",
              " 'quality of life',\n",
              " 'question',\n",
              " 'radioactive material',\n",
              " 'rangehood',\n",
              " 'recycling enforcement',\n",
              " 'request large bulky item collection',\n",
              " 'research questions',\n",
              " 'rodent',\n",
              " 'root/sewer/sidewalk condition',\n",
              " 'safety',\n",
              " 'sanitation condition',\n",
              " 'scaffold safety',\n",
              " 'school maintenance',\n",
              " 'scrie',\n",
              " 'senior center complaint',\n",
              " 'sewer',\n",
              " 'sidewalk condition',\n",
              " 'single occupancy bathroom',\n",
              " 'smoking',\n",
              " 'snow',\n",
              " 'special natural area district (snad)',\n",
              " 'special operations',\n",
              " 'special projects inspection team (spit)',\n",
              " 'standing water',\n",
              " 'street condition',\n",
              " 'street light condition',\n",
              " 'street sign - damaged',\n",
              " 'street sign - dangling',\n",
              " 'street sign - missing',\n",
              " 'sustainability enforcement',\n",
              " 'sweeping/inadequate',\n",
              " 'sweeping/missed',\n",
              " 'tattooing',\n",
              " 'taxi complaint',\n",
              " 'taxi compliment',\n",
              " 'taxi licensee complaint',\n",
              " 'taxi report',\n",
              " 'taxpayer advocate inquiry',\n",
              " 'traffic',\n",
              " 'traffic signal condition',\n",
              " 'transportation provider complaint',\n",
              " 'tunnel condition',\n",
              " 'unleashed dog',\n",
              " 'unlicensed dog',\n",
              " 'unsanitary animal facility',\n",
              " 'unsanitary animal pvt property',\n",
              " 'unsanitary condition',\n",
              " 'unsanitary pigeon condition',\n",
              " 'urinating in public',\n",
              " 'vacant lot',\n",
              " 'vending',\n",
              " 'violation of park rules',\n",
              " 'water conservation',\n",
              " 'water leak',\n",
              " 'water quality',\n",
              " 'water system',\n",
              " 'window guard',\n",
              " 'x-ray machine/equipment'}"
            ]
          },
          "metadata": {
            "tags": []
          },
          "execution_count": 10
        }
      ]
    },
    {
      "cell_type": "code",
      "metadata": {
        "id": "sbrZgR9N3w8l",
        "colab_type": "code",
        "colab": {}
      },
      "source": [
        "#Create a new dataframe that only captures the 'unsanitary condition' complaints\n",
        "unsanitary = df[df.complaint_type == 'unsanitary condition']"
      ],
      "execution_count": 0,
      "outputs": []
    },
    {
      "cell_type": "code",
      "metadata": {
        "id": "tbhT1A9o36WD",
        "colab_type": "code",
        "outputId": "3a9cdd20-8b76-469e-99fb-009172bdcdfd",
        "colab": {
          "base_uri": "https://localhost:8080/",
          "height": 581
        }
      },
      "source": [
        "#check code to see if it worked\n",
        "unsanitary.head()"
      ],
      "execution_count": 0,
      "outputs": [
        {
          "output_type": "execute_result",
          "data": {
            "text/html": [
              "<div>\n",
              "<style scoped>\n",
              "    .dataframe tbody tr th:only-of-type {\n",
              "        vertical-align: middle;\n",
              "    }\n",
              "\n",
              "    .dataframe tbody tr th {\n",
              "        vertical-align: top;\n",
              "    }\n",
              "\n",
              "    .dataframe thead th {\n",
              "        text-align: right;\n",
              "    }\n",
              "</style>\n",
              "<table border=\"1\" class=\"dataframe\">\n",
              "  <thead>\n",
              "    <tr style=\"text-align: right;\">\n",
              "      <th></th>\n",
              "      <th>Unnamed: 0</th>\n",
              "      <th>Unnamed: 0.1</th>\n",
              "      <th>unique_key</th>\n",
              "      <th>created_date</th>\n",
              "      <th>closed_date</th>\n",
              "      <th>agency</th>\n",
              "      <th>agency_name</th>\n",
              "      <th>complaint_type</th>\n",
              "      <th>descriptor</th>\n",
              "      <th>location_type</th>\n",
              "      <th>incident_zip</th>\n",
              "      <th>incident_address</th>\n",
              "      <th>street_name</th>\n",
              "      <th>cross_street_1</th>\n",
              "      <th>cross_street_2</th>\n",
              "      <th>intersection_street_1</th>\n",
              "      <th>intersection_street_2</th>\n",
              "      <th>address_type</th>\n",
              "      <th>city</th>\n",
              "      <th>landmark</th>\n",
              "      <th>facility_type</th>\n",
              "      <th>status</th>\n",
              "      <th>due_date</th>\n",
              "      <th>resolution_description</th>\n",
              "      <th>resolution_action_updated_date</th>\n",
              "      <th>community_board</th>\n",
              "      <th>bbl</th>\n",
              "      <th>borough</th>\n",
              "      <th>x_coordinate_(state_plane)</th>\n",
              "      <th>y_coordinate_(state_plane)</th>\n",
              "      <th>open_data_channel_type</th>\n",
              "      <th>park_facility_name</th>\n",
              "      <th>park_borough</th>\n",
              "      <th>vehicle_type</th>\n",
              "      <th>taxi_company_borough</th>\n",
              "      <th>taxi_pick_up_location</th>\n",
              "      <th>bridge_highway_name</th>\n",
              "      <th>bridge_highway_direction</th>\n",
              "      <th>road_ramp</th>\n",
              "      <th>bridge_highway_segment</th>\n",
              "      <th>latitude</th>\n",
              "      <th>longitude</th>\n",
              "      <th>location</th>\n",
              "      <th>borocd</th>\n",
              "    </tr>\n",
              "  </thead>\n",
              "  <tbody>\n",
              "    <tr>\n",
              "      <th>20</th>\n",
              "      <td>20</td>\n",
              "      <td>20</td>\n",
              "      <td>39899417</td>\n",
              "      <td>08/01/2018 12:07:22 AM</td>\n",
              "      <td>08/16/2018 09:58:39 AM</td>\n",
              "      <td>HPD</td>\n",
              "      <td>Department of Housing Preservation and Develop...</td>\n",
              "      <td>unsanitary condition</td>\n",
              "      <td>PESTS</td>\n",
              "      <td>RESIDENTIAL BUILDING</td>\n",
              "      <td>10457</td>\n",
              "      <td>1755 CLAY AVENUE</td>\n",
              "      <td>CLAY AVENUE</td>\n",
              "      <td>NaN</td>\n",
              "      <td>NaN</td>\n",
              "      <td>NaN</td>\n",
              "      <td>NaN</td>\n",
              "      <td>ADDRESS</td>\n",
              "      <td>BRONX</td>\n",
              "      <td>NaN</td>\n",
              "      <td>NaN</td>\n",
              "      <td>Closed</td>\n",
              "      <td>NaN</td>\n",
              "      <td>The Department of Housing Preservation and Dev...</td>\n",
              "      <td>08/16/2018 09:58:39 AM</td>\n",
              "      <td>05 BRONX</td>\n",
              "      <td>2.027990e+09</td>\n",
              "      <td>BRONX</td>\n",
              "      <td>1010591.0</td>\n",
              "      <td>247332.0</td>\n",
              "      <td>PHONE</td>\n",
              "      <td>Unspecified</td>\n",
              "      <td>BRONX</td>\n",
              "      <td>NaN</td>\n",
              "      <td>NaN</td>\n",
              "      <td>NaN</td>\n",
              "      <td>NaN</td>\n",
              "      <td>NaN</td>\n",
              "      <td>NaN</td>\n",
              "      <td>NaN</td>\n",
              "      <td>40.845505</td>\n",
              "      <td>-73.904795</td>\n",
              "      <td>(40.84550502951069, -73.9047946370933)</td>\n",
              "      <td>205.0</td>\n",
              "    </tr>\n",
              "    <tr>\n",
              "      <th>94</th>\n",
              "      <td>94</td>\n",
              "      <td>94</td>\n",
              "      <td>39897846</td>\n",
              "      <td>08/01/2018 12:33:15 AM</td>\n",
              "      <td>08/08/2018 08:09:38 AM</td>\n",
              "      <td>HPD</td>\n",
              "      <td>Department of Housing Preservation and Develop...</td>\n",
              "      <td>unsanitary condition</td>\n",
              "      <td>GARBAGE/RECYCLING STORAGE</td>\n",
              "      <td>RESIDENTIAL BUILDING</td>\n",
              "      <td>10304</td>\n",
              "      <td>79 OSGOOD AVENUE</td>\n",
              "      <td>OSGOOD AVENUE</td>\n",
              "      <td>NaN</td>\n",
              "      <td>NaN</td>\n",
              "      <td>NaN</td>\n",
              "      <td>NaN</td>\n",
              "      <td>ADDRESS</td>\n",
              "      <td>STATEN ISLAND</td>\n",
              "      <td>NaN</td>\n",
              "      <td>NaN</td>\n",
              "      <td>Closed</td>\n",
              "      <td>NaN</td>\n",
              "      <td>The Department of Housing Preservation and Dev...</td>\n",
              "      <td>08/08/2018 08:09:38 AM</td>\n",
              "      <td>01 STATEN ISLAND</td>\n",
              "      <td>5.005600e+09</td>\n",
              "      <td>STATEN ISLAND</td>\n",
              "      <td>961196.0</td>\n",
              "      <td>164759.0</td>\n",
              "      <td>ONLINE</td>\n",
              "      <td>Unspecified</td>\n",
              "      <td>STATEN ISLAND</td>\n",
              "      <td>NaN</td>\n",
              "      <td>NaN</td>\n",
              "      <td>NaN</td>\n",
              "      <td>NaN</td>\n",
              "      <td>NaN</td>\n",
              "      <td>NaN</td>\n",
              "      <td>NaN</td>\n",
              "      <td>40.618872</td>\n",
              "      <td>-74.083042</td>\n",
              "      <td>(40.61887185441726, -74.08304210343434)</td>\n",
              "      <td>501.0</td>\n",
              "    </tr>\n",
              "    <tr>\n",
              "      <th>114</th>\n",
              "      <td>116</td>\n",
              "      <td>116</td>\n",
              "      <td>39896395</td>\n",
              "      <td>08/01/2018 12:45:09 AM</td>\n",
              "      <td>08/13/2018 10:39:15 AM</td>\n",
              "      <td>HPD</td>\n",
              "      <td>Department of Housing Preservation and Develop...</td>\n",
              "      <td>unsanitary condition</td>\n",
              "      <td>MOLD</td>\n",
              "      <td>RESIDENTIAL BUILDING</td>\n",
              "      <td>10469</td>\n",
              "      <td>3139 GUNTHER AVENUE</td>\n",
              "      <td>GUNTHER AVENUE</td>\n",
              "      <td>NaN</td>\n",
              "      <td>NaN</td>\n",
              "      <td>NaN</td>\n",
              "      <td>NaN</td>\n",
              "      <td>ADDRESS</td>\n",
              "      <td>BRONX</td>\n",
              "      <td>NaN</td>\n",
              "      <td>NaN</td>\n",
              "      <td>Closed</td>\n",
              "      <td>NaN</td>\n",
              "      <td>The Department of Housing Preservation and Dev...</td>\n",
              "      <td>08/13/2018 10:39:15 AM</td>\n",
              "      <td>12 BRONX</td>\n",
              "      <td>2.047690e+09</td>\n",
              "      <td>BRONX</td>\n",
              "      <td>1028403.0</td>\n",
              "      <td>257426.0</td>\n",
              "      <td>PHONE</td>\n",
              "      <td>Unspecified</td>\n",
              "      <td>BRONX</td>\n",
              "      <td>NaN</td>\n",
              "      <td>NaN</td>\n",
              "      <td>NaN</td>\n",
              "      <td>NaN</td>\n",
              "      <td>NaN</td>\n",
              "      <td>NaN</td>\n",
              "      <td>NaN</td>\n",
              "      <td>40.873139</td>\n",
              "      <td>-73.840350</td>\n",
              "      <td>(40.8731388816512, -73.84034961214721)</td>\n",
              "      <td>212.0</td>\n",
              "    </tr>\n",
              "    <tr>\n",
              "      <th>115</th>\n",
              "      <td>117</td>\n",
              "      <td>117</td>\n",
              "      <td>39897892</td>\n",
              "      <td>08/01/2018 12:45:10 AM</td>\n",
              "      <td>08/13/2018 10:39:16 AM</td>\n",
              "      <td>HPD</td>\n",
              "      <td>Department of Housing Preservation and Develop...</td>\n",
              "      <td>unsanitary condition</td>\n",
              "      <td>PESTS</td>\n",
              "      <td>RESIDENTIAL BUILDING</td>\n",
              "      <td>10469</td>\n",
              "      <td>3139 GUNTHER AVENUE</td>\n",
              "      <td>GUNTHER AVENUE</td>\n",
              "      <td>NaN</td>\n",
              "      <td>NaN</td>\n",
              "      <td>NaN</td>\n",
              "      <td>NaN</td>\n",
              "      <td>ADDRESS</td>\n",
              "      <td>BRONX</td>\n",
              "      <td>NaN</td>\n",
              "      <td>NaN</td>\n",
              "      <td>Closed</td>\n",
              "      <td>NaN</td>\n",
              "      <td>The Department of Housing Preservation and Dev...</td>\n",
              "      <td>08/13/2018 10:39:16 AM</td>\n",
              "      <td>12 BRONX</td>\n",
              "      <td>2.047690e+09</td>\n",
              "      <td>BRONX</td>\n",
              "      <td>1028403.0</td>\n",
              "      <td>257426.0</td>\n",
              "      <td>PHONE</td>\n",
              "      <td>Unspecified</td>\n",
              "      <td>BRONX</td>\n",
              "      <td>NaN</td>\n",
              "      <td>NaN</td>\n",
              "      <td>NaN</td>\n",
              "      <td>NaN</td>\n",
              "      <td>NaN</td>\n",
              "      <td>NaN</td>\n",
              "      <td>NaN</td>\n",
              "      <td>40.873139</td>\n",
              "      <td>-73.840350</td>\n",
              "      <td>(40.8731388816512, -73.84034961214721)</td>\n",
              "      <td>212.0</td>\n",
              "    </tr>\n",
              "    <tr>\n",
              "      <th>116</th>\n",
              "      <td>118</td>\n",
              "      <td>118</td>\n",
              "      <td>39893779</td>\n",
              "      <td>08/01/2018 12:45:10 AM</td>\n",
              "      <td>08/13/2018 10:39:16 AM</td>\n",
              "      <td>HPD</td>\n",
              "      <td>Department of Housing Preservation and Develop...</td>\n",
              "      <td>unsanitary condition</td>\n",
              "      <td>PESTS</td>\n",
              "      <td>RESIDENTIAL BUILDING</td>\n",
              "      <td>10469</td>\n",
              "      <td>3139 GUNTHER AVENUE</td>\n",
              "      <td>GUNTHER AVENUE</td>\n",
              "      <td>NaN</td>\n",
              "      <td>NaN</td>\n",
              "      <td>NaN</td>\n",
              "      <td>NaN</td>\n",
              "      <td>ADDRESS</td>\n",
              "      <td>BRONX</td>\n",
              "      <td>NaN</td>\n",
              "      <td>NaN</td>\n",
              "      <td>Closed</td>\n",
              "      <td>NaN</td>\n",
              "      <td>The Department of Housing Preservation and Dev...</td>\n",
              "      <td>08/13/2018 10:39:16 AM</td>\n",
              "      <td>12 BRONX</td>\n",
              "      <td>2.047690e+09</td>\n",
              "      <td>BRONX</td>\n",
              "      <td>1028403.0</td>\n",
              "      <td>257426.0</td>\n",
              "      <td>PHONE</td>\n",
              "      <td>Unspecified</td>\n",
              "      <td>BRONX</td>\n",
              "      <td>NaN</td>\n",
              "      <td>NaN</td>\n",
              "      <td>NaN</td>\n",
              "      <td>NaN</td>\n",
              "      <td>NaN</td>\n",
              "      <td>NaN</td>\n",
              "      <td>NaN</td>\n",
              "      <td>40.873139</td>\n",
              "      <td>-73.840350</td>\n",
              "      <td>(40.8731388816512, -73.84034961214721)</td>\n",
              "      <td>212.0</td>\n",
              "    </tr>\n",
              "  </tbody>\n",
              "</table>\n",
              "</div>"
            ],
            "text/plain": [
              "     Unnamed: 0  Unnamed: 0.1  ...                                 location borocd\n",
              "20           20            20  ...   (40.84550502951069, -73.9047946370933)  205.0\n",
              "94           94            94  ...  (40.61887185441726, -74.08304210343434)  501.0\n",
              "114         116           116  ...   (40.8731388816512, -73.84034961214721)  212.0\n",
              "115         117           117  ...   (40.8731388816512, -73.84034961214721)  212.0\n",
              "116         118           118  ...   (40.8731388816512, -73.84034961214721)  212.0\n",
              "\n",
              "[5 rows x 44 columns]"
            ]
          },
          "metadata": {
            "tags": []
          },
          "execution_count": 13
        }
      ]
    },
    {
      "cell_type": "markdown",
      "metadata": {
        "id": "2GuIsM5q4-Lo",
        "colab_type": "text"
      },
      "source": [
        "**Step 3.** Write out the hypothesis for your analysis. What relationship are you expecting to find between the variables and why?"
      ]
    },
    {
      "cell_type": "markdown",
      "metadata": {
        "id": "iFYS9gOJ5MoU",
        "colab_type": "text"
      },
      "source": [
        "My hypothesis for this analysis is as follows: I expect that the higher the percentage of households that spend 35% or more of their income on rent in the Public Use Microdata Area (PUMA) that CD roughly matches, the less complaints that 311 received regarding \"Unsanitary Conditions\". My reasoning for this is as follows: if an individual's rent burden is high, they will probably try to work longer hours or multiple jobs in order to afford their rent. As such, they will barely have enough time to complain at all."
      ]
    },
    {
      "cell_type": "markdown",
      "metadata": {
        "id": "ox9Wv8Lw6tna",
        "colab_type": "text"
      },
      "source": [
        "**Step 4.** Get the count of 311 complaints per community district (borocd) using the filtered dataframe you created in Step 2."
      ]
    },
    {
      "cell_type": "code",
      "metadata": {
        "id": "SIT9MAWg6zGp",
        "colab_type": "code",
        "colab": {}
      },
      "source": [
        "#create smaller dataset with count of 311 complaints per community district\n",
        "unsanitary2 = unsanitary.groupby('borocd').size().reset_index(name='count')"
      ],
      "execution_count": 0,
      "outputs": []
    },
    {
      "cell_type": "code",
      "metadata": {
        "id": "bAD3p_HT776A",
        "colab_type": "code",
        "outputId": "40ff3981-93a4-4ee0-d2df-caa69da02549",
        "colab": {
          "base_uri": "https://localhost:8080/",
          "height": 204
        }
      },
      "source": [
        "#check if code above worked\n",
        "unsanitary2.tail()"
      ],
      "execution_count": 0,
      "outputs": [
        {
          "output_type": "execute_result",
          "data": {
            "text/html": [
              "<div>\n",
              "<style scoped>\n",
              "    .dataframe tbody tr th:only-of-type {\n",
              "        vertical-align: middle;\n",
              "    }\n",
              "\n",
              "    .dataframe tbody tr th {\n",
              "        vertical-align: top;\n",
              "    }\n",
              "\n",
              "    .dataframe thead th {\n",
              "        text-align: right;\n",
              "    }\n",
              "</style>\n",
              "<table border=\"1\" class=\"dataframe\">\n",
              "  <thead>\n",
              "    <tr style=\"text-align: right;\">\n",
              "      <th></th>\n",
              "      <th>borocd</th>\n",
              "      <th>count</th>\n",
              "    </tr>\n",
              "  </thead>\n",
              "  <tbody>\n",
              "    <tr>\n",
              "      <th>54</th>\n",
              "      <td>413.0</td>\n",
              "      <td>632</td>\n",
              "    </tr>\n",
              "    <tr>\n",
              "      <th>55</th>\n",
              "      <td>414.0</td>\n",
              "      <td>1457</td>\n",
              "    </tr>\n",
              "    <tr>\n",
              "      <th>56</th>\n",
              "      <td>501.0</td>\n",
              "      <td>1792</td>\n",
              "    </tr>\n",
              "    <tr>\n",
              "      <th>57</th>\n",
              "      <td>502.0</td>\n",
              "      <td>352</td>\n",
              "    </tr>\n",
              "    <tr>\n",
              "      <th>58</th>\n",
              "      <td>503.0</td>\n",
              "      <td>217</td>\n",
              "    </tr>\n",
              "  </tbody>\n",
              "</table>\n",
              "</div>"
            ],
            "text/plain": [
              "    borocd  count\n",
              "54   413.0    632\n",
              "55   414.0   1457\n",
              "56   501.0   1792\n",
              "57   502.0    352\n",
              "58   503.0    217"
            ]
          },
          "metadata": {
            "tags": []
          },
          "execution_count": 15
        }
      ]
    },
    {
      "cell_type": "markdown",
      "metadata": {
        "id": "qmNWixUd9v37",
        "colab_type": "text"
      },
      "source": [
        "**Step 5.** Join the indicator dataframe (from Step 1) with 311 counts dataframe (from Step 4) using the borocd value."
      ]
    },
    {
      "cell_type": "code",
      "metadata": {
        "id": "IQLpmt6A93i3",
        "colab_type": "code",
        "colab": {}
      },
      "source": [
        "#joining indicator dataframe with 311 counts dataframe\n",
        "merged_data = pd.merge(how = 'left', left=unsanitary2, right= indicators, left_on = 'borocd', right_on = 'borocd')"
      ],
      "execution_count": 0,
      "outputs": []
    },
    {
      "cell_type": "code",
      "metadata": {
        "id": "tQKNP24j-h-j",
        "colab_type": "code",
        "outputId": "8502332c-80e1-4589-d64d-b62f16f9b9f3",
        "colab": {
          "base_uri": "https://localhost:8080/",
          "height": 204
        }
      },
      "source": [
        "#checking if merge worked\n",
        "merged_data.head()"
      ],
      "execution_count": 0,
      "outputs": [
        {
          "output_type": "execute_result",
          "data": {
            "text/html": [
              "<div>\n",
              "<style scoped>\n",
              "    .dataframe tbody tr th:only-of-type {\n",
              "        vertical-align: middle;\n",
              "    }\n",
              "\n",
              "    .dataframe tbody tr th {\n",
              "        vertical-align: top;\n",
              "    }\n",
              "\n",
              "    .dataframe thead th {\n",
              "        text-align: right;\n",
              "    }\n",
              "</style>\n",
              "<table border=\"1\" class=\"dataframe\">\n",
              "  <thead>\n",
              "    <tr style=\"text-align: right;\">\n",
              "      <th></th>\n",
              "      <th>borocd</th>\n",
              "      <th>count</th>\n",
              "      <th>pct_hh_rent_burd</th>\n",
              "    </tr>\n",
              "  </thead>\n",
              "  <tbody>\n",
              "    <tr>\n",
              "      <th>0</th>\n",
              "      <td>101.0</td>\n",
              "      <td>101</td>\n",
              "      <td>31.0</td>\n",
              "    </tr>\n",
              "    <tr>\n",
              "      <th>1</th>\n",
              "      <td>102.0</td>\n",
              "      <td>508</td>\n",
              "      <td>31.0</td>\n",
              "    </tr>\n",
              "    <tr>\n",
              "      <th>2</th>\n",
              "      <td>103.0</td>\n",
              "      <td>1160</td>\n",
              "      <td>38.5</td>\n",
              "    </tr>\n",
              "    <tr>\n",
              "      <th>3</th>\n",
              "      <td>104.0</td>\n",
              "      <td>933</td>\n",
              "      <td>33.8</td>\n",
              "    </tr>\n",
              "    <tr>\n",
              "      <th>4</th>\n",
              "      <td>105.0</td>\n",
              "      <td>291</td>\n",
              "      <td>33.8</td>\n",
              "    </tr>\n",
              "  </tbody>\n",
              "</table>\n",
              "</div>"
            ],
            "text/plain": [
              "   borocd  count  pct_hh_rent_burd\n",
              "0   101.0    101              31.0\n",
              "1   102.0    508              31.0\n",
              "2   103.0   1160              38.5\n",
              "3   104.0    933              33.8\n",
              "4   105.0    291              33.8"
            ]
          },
          "metadata": {
            "tags": []
          },
          "execution_count": 17
        }
      ]
    },
    {
      "cell_type": "code",
      "metadata": {
        "id": "7aXmeXbOMov5",
        "colab_type": "code",
        "outputId": "e14367df-5b44-44e7-fb77-3ab640d74759",
        "colab": {
          "base_uri": "https://localhost:8080/",
          "height": 204
        }
      },
      "source": [
        "#check if there are any missing values and fill it in with 0 if there are; there shouldn't be any based on a brief look at the data, but just in case\n",
        "merged_data = merged_data.fillna(0)\n",
        "merged_data.head()"
      ],
      "execution_count": 0,
      "outputs": [
        {
          "output_type": "execute_result",
          "data": {
            "text/html": [
              "<div>\n",
              "<style scoped>\n",
              "    .dataframe tbody tr th:only-of-type {\n",
              "        vertical-align: middle;\n",
              "    }\n",
              "\n",
              "    .dataframe tbody tr th {\n",
              "        vertical-align: top;\n",
              "    }\n",
              "\n",
              "    .dataframe thead th {\n",
              "        text-align: right;\n",
              "    }\n",
              "</style>\n",
              "<table border=\"1\" class=\"dataframe\">\n",
              "  <thead>\n",
              "    <tr style=\"text-align: right;\">\n",
              "      <th></th>\n",
              "      <th>borocd</th>\n",
              "      <th>count</th>\n",
              "      <th>pct_hh_rent_burd</th>\n",
              "    </tr>\n",
              "  </thead>\n",
              "  <tbody>\n",
              "    <tr>\n",
              "      <th>0</th>\n",
              "      <td>101.0</td>\n",
              "      <td>101</td>\n",
              "      <td>31.0</td>\n",
              "    </tr>\n",
              "    <tr>\n",
              "      <th>1</th>\n",
              "      <td>102.0</td>\n",
              "      <td>508</td>\n",
              "      <td>31.0</td>\n",
              "    </tr>\n",
              "    <tr>\n",
              "      <th>2</th>\n",
              "      <td>103.0</td>\n",
              "      <td>1160</td>\n",
              "      <td>38.5</td>\n",
              "    </tr>\n",
              "    <tr>\n",
              "      <th>3</th>\n",
              "      <td>104.0</td>\n",
              "      <td>933</td>\n",
              "      <td>33.8</td>\n",
              "    </tr>\n",
              "    <tr>\n",
              "      <th>4</th>\n",
              "      <td>105.0</td>\n",
              "      <td>291</td>\n",
              "      <td>33.8</td>\n",
              "    </tr>\n",
              "  </tbody>\n",
              "</table>\n",
              "</div>"
            ],
            "text/plain": [
              "   borocd  count  pct_hh_rent_burd\n",
              "0   101.0    101              31.0\n",
              "1   102.0    508              31.0\n",
              "2   103.0   1160              38.5\n",
              "3   104.0    933              33.8\n",
              "4   105.0    291              33.8"
            ]
          },
          "metadata": {
            "tags": []
          },
          "execution_count": 18
        }
      ]
    },
    {
      "cell_type": "code",
      "metadata": {
        "id": "d5Swl1HxQY9X",
        "colab_type": "code",
        "outputId": "f79a9d77-4713-43b9-cf2a-d8a09c05cfcc",
        "colab": {
          "base_uri": "https://localhost:8080/",
          "height": 34
        }
      },
      "source": [
        "#check type of 'pct_hh_rent_burd' column\n",
        "type(merged_data.pct_hh_rent_burd)"
      ],
      "execution_count": 0,
      "outputs": [
        {
          "output_type": "execute_result",
          "data": {
            "text/plain": [
              "pandas.core.series.Series"
            ]
          },
          "metadata": {
            "tags": []
          },
          "execution_count": 19
        }
      ]
    },
    {
      "cell_type": "code",
      "metadata": {
        "id": "vb3tOjx_Qdby",
        "colab_type": "code",
        "outputId": "df7d7587-8c1a-4066-b5c8-98b5ab274923",
        "colab": {
          "base_uri": "https://localhost:8080/",
          "height": 34
        }
      },
      "source": [
        "#check type of 'count' column\n",
        "type(merged_data.count)"
      ],
      "execution_count": 0,
      "outputs": [
        {
          "output_type": "execute_result",
          "data": {
            "text/plain": [
              "method"
            ]
          },
          "metadata": {
            "tags": []
          },
          "execution_count": 20
        }
      ]
    },
    {
      "cell_type": "code",
      "metadata": {
        "id": "Aq3u4fzJU8Fh",
        "colab_type": "code",
        "colab": {}
      },
      "source": [
        "#since the 'count' column is a 'method' type, we need to change 'count' values into integers\n",
        "merged_data.count = merged_data['count'].astype('int64')"
      ],
      "execution_count": 0,
      "outputs": []
    },
    {
      "cell_type": "code",
      "metadata": {
        "id": "glhdeIWYXNuU",
        "colab_type": "code",
        "outputId": "77c1b523-caf4-4d6f-e616-0a197d3f786f",
        "colab": {
          "base_uri": "https://localhost:8080/",
          "height": 34
        }
      },
      "source": [
        "#check type of 'count' column again\n",
        "type(merged_data.count)"
      ],
      "execution_count": 0,
      "outputs": [
        {
          "output_type": "execute_result",
          "data": {
            "text/plain": [
              "pandas.core.series.Series"
            ]
          },
          "metadata": {
            "tags": []
          },
          "execution_count": 22
        }
      ]
    },
    {
      "cell_type": "markdown",
      "metadata": {
        "id": "hd_BqVnh-f05",
        "colab_type": "text"
      },
      "source": [
        "**Step 6.** Produce a scatter plot of the indicator values vs. 311 complaint counts. There should be one point per community district."
      ]
    },
    {
      "cell_type": "code",
      "metadata": {
        "id": "bZ3ZzXan-0xE",
        "colab_type": "code",
        "outputId": "eb5cdae6-afac-4155-cd65-9956987063dd",
        "colab": {
          "base_uri": "https://localhost:8080/",
          "height": 404
        }
      },
      "source": [
        "plt.figure(figsize=(15, 6))\n",
        "\n",
        "plt.scatter(\n",
        "    np.array(merged_data.pct_hh_rent_burd), # x\n",
        "    np.array(merged_data.count), # y\n",
        "    s=50, # size of marker\n",
        "    c='#3d03fc', # color hex color picker: https://www.google.com/search?q=color+picker\n",
        "    edgecolors='black', # outline color of the marker\n",
        "    alpha=0.5) # transparency. 0 is 100% transparent. 1 is 100% opaque\n",
        "\n",
        "plt.title('311 Requests vs. Percentage of Households with Rent Burden')\n",
        "plt.xlabel('Percentage of Households with Rent Burden')\n",
        "plt.ylabel('# of 311 Requests in Community District')\n",
        "\n",
        "plt.show()\n"
      ],
      "execution_count": 0,
      "outputs": [
        {
          "output_type": "display_data",
          "data": {
            "image/png": "[encoded data removed]",
            "text/plain": [
              "<Figure size 1080x432 with 1 Axes>"
            ]
          },
          "metadata": {
            "tags": []
          }
        }
      ]
    },
    {
      "cell_type": "markdown",
      "metadata": {
        "id": "ouohqXxKXgp7",
        "colab_type": "text"
      },
      "source": [
        "**Step 7.** Conduct an OLS linear regression using the indicator values vs. 311 complaint counts and interpret the results."
      ]
    },
    {
      "cell_type": "code",
      "metadata": {
        "id": "uCAxmLkgXijL",
        "colab_type": "code",
        "outputId": "1abc2107-5725-4da7-c6bd-9849533d2ce4",
        "colab": {
          "base_uri": "https://localhost:8080/",
          "height": 1000
        }
      },
      "source": [
        "# y = dependent variable (# of 311 complaints regarding 'Unsanitary Conditions')\n",
        "y = np.array(merged_data.count)\n",
        "\n",
        "# x = Percentage of households with Rent Burden\n",
        "x = np.array(merged_data.pct_hh_rent_burd)\n",
        "x = sm.add_constant(x)\n",
        "\n",
        "print(x)\n",
        "\n",
        "model = sm.OLS(y, x).fit()\n",
        "\n",
        "# Print out the statistics\n",
        "\n",
        "print(model.summary())"
      ],
      "execution_count": 0,
      "outputs": [
        {
          "output_type": "stream",
          "text": [
            "[[ 1.  31. ]\n",
            " [ 1.  31. ]\n",
            " [ 1.  38.5]\n",
            " [ 1.  33.8]\n",
            " [ 1.  33.8]\n",
            " [ 1.  34.9]\n",
            " [ 1.  32.8]\n",
            " [ 1.  33.4]\n",
            " [ 1.  44.6]\n",
            " [ 1.  39.5]\n",
            " [ 1.  37.5]\n",
            " [ 1.  45.2]\n",
            " [ 1.  48.2]\n",
            " [ 1.  48.2]\n",
            " [ 1.  50.5]\n",
            " [ 1.  55.8]\n",
            " [ 1.  59.3]\n",
            " [ 1.  50.5]\n",
            " [ 1.  55.3]\n",
            " [ 1.  45.1]\n",
            " [ 1.  48.8]\n",
            " [ 1.  39.2]\n",
            " [ 1.  47.6]\n",
            " [ 1.  51.4]\n",
            " [ 1.  40.3]\n",
            " [ 1.  30.7]\n",
            " [ 1.  45.5]\n",
            " [ 1.  47.4]\n",
            " [ 1.  48.7]\n",
            " [ 1.  28.5]\n",
            " [ 1.  50.2]\n",
            " [ 1.  43.8]\n",
            " [ 1.  48.1]\n",
            " [ 1.  43.5]\n",
            " [ 1.  48.9]\n",
            " [ 1.  61. ]\n",
            " [ 1.  46.5]\n",
            " [ 1.  50.1]\n",
            " [ 1.  48. ]\n",
            " [ 1.  54.3]\n",
            " [ 1.  50.4]\n",
            " [ 1.  42. ]\n",
            " [ 1.  38.4]\n",
            " [ 1.  42.7]\n",
            " [ 1.  53.7]\n",
            " [ 1.  54.9]\n",
            " [ 1.  41.2]\n",
            " [ 1.  44.9]\n",
            " [ 1.  56.4]\n",
            " [ 1.  48.9]\n",
            " [ 1.  46.8]\n",
            " [ 1.  50.2]\n",
            " [ 1.  43.6]\n",
            " [ 1.  48. ]\n",
            " [ 1.  43.4]\n",
            " [ 1.  44.6]\n",
            " [ 1.  49.8]\n",
            " [ 1.  45.3]\n",
            " [ 1.  42.2]]\n",
            "                            OLS Regression Results                            \n",
            "==============================================================================\n",
            "Dep. Variable:                      y   R-squared:                       0.241\n",
            "Model:                            OLS   Adj. R-squared:                  0.227\n",
            "Method:                 Least Squares   F-statistic:                     18.06\n",
            "Date:                Thu, 19 Dec 2019   Prob (F-statistic):           8.00e-05\n",
            "Time:                        16:29:28   Log-Likelihood:                -483.64\n",
            "No. Observations:                  59   AIC:                             971.3\n",
            "Df Residuals:                      57   BIC:                             975.4\n",
            "Df Model:                           1                                         \n",
            "Covariance Type:            nonrobust                                         \n",
            "==============================================================================\n",
            "                 coef    std err          t      P>|t|      [0.025      0.975]\n",
            "------------------------------------------------------------------------------\n",
            "const      -1544.5982    720.505     -2.144      0.036   -2987.385    -101.812\n",
            "x1            67.0601     15.778      4.250      0.000      35.464      98.656\n",
            "==============================================================================\n",
            "Omnibus:                        4.180   Durbin-Watson:                   1.257\n",
            "Prob(Omnibus):                  0.124   Jarque-Bera (JB):                3.592\n",
            "Skew:                           0.602   Prob(JB):                        0.166\n",
            "Kurtosis:                       3.103   Cond. No.                         283.\n",
            "==============================================================================\n",
            "\n",
            "Warnings:\n",
            "[1] Standard Errors assume that the covariance matrix of the errors is correctly specified.\n"
          ],
          "name": "stdout"
        }
      ]
    },
    {
      "cell_type": "markdown",
      "metadata": {
        "id": "4qKrBrMncsxQ",
        "colab_type": "text"
      },
      "source": [
        "**Step 8.** Use the linear regression results to add a line of best fit to your scatterplot"
      ]
    },
    {
      "cell_type": "code",
      "metadata": {
        "id": "zAg6lfXkeqF9",
        "colab_type": "code",
        "outputId": "8edfc913-ea5b-4d06-dd4a-21707a59c86a",
        "colab": {
          "base_uri": "https://localhost:8080/",
          "height": 51
        }
      },
      "source": [
        "p = model.params # intercept and coefficient\n",
        "print('parameters:', p)\n",
        "\n",
        "r2 = model.rsquared\n",
        "print('R2:', r2)"
      ],
      "execution_count": 0,
      "outputs": [
        {
          "output_type": "stream",
          "text": [
            "parameters: [-1544.59822672    67.06006295]\n",
            "R2: 0.24064358015918297\n"
          ],
          "name": "stdout"
        }
      ]
    },
    {
      "cell_type": "code",
      "metadata": {
        "id": "alKHK7Ore0oA",
        "colab_type": "code",
        "outputId": "2743a9e6-b5b8-4336-ad57-19127c207c35",
        "colab": {
          "base_uri": "https://localhost:8080/",
          "height": 34
        }
      },
      "source": [
        "label = 'y = ' + str(round(p[1],2)) + 'x + ' + str(round(p[0],2)) + '; R2 = ' + str(round(r2,3))\n",
        "print(label)"
      ],
      "execution_count": 0,
      "outputs": [
        {
          "output_type": "stream",
          "text": [
            "y = 67.06x + -1544.6; R2 = 0.241\n"
          ],
          "name": "stdout"
        }
      ]
    },
    {
      "cell_type": "code",
      "metadata": {
        "id": "6u_lEf9ne1vz",
        "colab_type": "code",
        "outputId": "9a500fd9-d0fd-4d73-c8be-c5c88e59981c",
        "colab": {
          "base_uri": "https://localhost:8080/",
          "height": 404
        }
      },
      "source": [
        "# x_dummy = np.arange(0,max(cd_data['2010 Population'])/1000)\n",
        "x_dummy = np.array(merged_data.pct_hh_rent_burd)\n",
        "\n",
        "plt.figure(figsize=(15, 6))\n",
        "\n",
        "plt.scatter(\n",
        "    np.array(merged_data.pct_hh_rent_burd), # x\n",
        "    np.array(merged_data.count), # y\n",
        "    s=50, # size of marker\n",
        "    c='#3d03fc', # color hex color picker: https://www.google.com/search?q=color+picker\n",
        "    edgecolors='black', # outline color of the marker\n",
        "    alpha=0.5) # transparency. 0 is 100% transparent. 1 is 100% opaque\n",
        "\n",
        "# line of best fit, with y intercept\n",
        "plt.plot(\n",
        "    x_dummy, \n",
        "    p[0] + p[1] * x_dummy,\n",
        "    c='#00d138', # lighter green\n",
        "    label=label)\n",
        "\n",
        "plt.title('311 Requests vs. Percentage of Households with Rent Burden')\n",
        "plt.xlabel('Percentage of Households with Rent Burden')\n",
        "plt.ylabel('# of 311 Requests in Community District')\n",
        "plt.legend()\n",
        "\n",
        "plt.show()"
      ],
      "execution_count": 0,
      "outputs": [
        {
          "output_type": "display_data",
          "data": {
            "image/png": "[encoded data removed]",
            "text/plain": [
              "<Figure size 1080x432 with 1 Axes>"
            ]
          },
          "metadata": {
            "tags": []
          }
        }
      ]
    },
    {
      "cell_type": "markdown",
      "metadata": {
        "id": "f7XgJmrqhYvv",
        "colab_type": "text"
      },
      "source": [
        "**Step 9.** Write a paragraph explaining the results of your analysis? Have you found a meaningful relationship?"
      ]
    },
    {
      "cell_type": "markdown",
      "metadata": {
        "id": "xAsNocIrhcxP",
        "colab_type": "text"
      },
      "source": [
        "The results indicate that for every additional percentage of households that have rent burden (that is, that spend 35% or more of their income on rent) in the community district, there will be 67.0601 (or approximately 67) more complaints regarding unsanitary conditions in the community district. (The coefficient for x1 is 67.0601.) The relationship between the percentage of households that have rent burden in a community district and the number of complaint requests regarding unsanitary conditions is significant as the regression results indicate that  P>|t| = 0. This result is not what I expected. However, it makes sense, as presumably, those with higher rent burden may also be individuals who are lower-income, and therefore can only afford to live in neighborhoods or buildings where the conditions are not as clean or well-kept. The situation may be bad enough that residents will then make complaints to 311 regarding the unsanitary conditions, regardless of whether they are working multiple jobs or may not have time to do so. This can be an interesting hypothesis to explore in future analyses."
      ]
    }
  ]
}